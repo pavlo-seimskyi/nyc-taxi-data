{
  "nbformat": 4,
  "nbformat_minor": 0,
  "metadata": {
    "colab": {
      "name": "Taxi_test_carto.ipynb",
      "provenance": [],
      "collapsed_sections": [
        "P2vB-dMf9McJ",
        "cMC9Wjdw99ub",
        "aotLRvYtHlwo",
        "5oF-4XHDnq7W",
        "GXZEKXdWkdHR",
        "wV5L9b4akdHS",
        "5AubyJEhkdHS",
        "GMqxyE_R9x-R"
      ],
      "authorship_tag": "ABX9TyOPHTC4VCwEUWHvibXG4hkT",
      "include_colab_link": true
    },
    "kernelspec": {
      "name": "python3",
      "display_name": "Python 3"
    }
  },
  "cells": [
    {
      "cell_type": "markdown",
      "metadata": {
        "id": "view-in-github",
        "colab_type": "text"
      },
      "source": [
        "<a href=\"https://colab.research.google.com/github/pavlo-seimskyi/nyc-taxi-data/blob/main/EDA_and_model_training.ipynb\" target=\"_parent\"><img src=\"https://colab.research.google.com/assets/colab-badge.svg\" alt=\"Open In Colab\"/></a>"
      ]
    },
    {
      "cell_type": "markdown",
      "metadata": {
        "id": "WPi5VcdomYyW"
      },
      "source": [
        "# Import libraries"
      ]
    },
    {
      "cell_type": "code",
      "metadata": {
        "id": "UTzYZl5-rxQF"
      },
      "source": [
        "%%capture\n",
        "!pip install fastai --upgrade\n",
        "!pip install dtreeviz\n",
        "!pip install fastbook\n",
        "!pip install utils\n",
        "!pip install treeinterpreter\n",
        "!pip install waterfallcharts"
      ],
      "execution_count": 1,
      "outputs": []
    },
    {
      "cell_type": "code",
      "metadata": {
        "id": "QgAchkmDr6pN"
      },
      "source": [
        "# from google.colab import drive\n",
        "# drive.mount('/content/drive')"
      ],
      "execution_count": 2,
      "outputs": []
    },
    {
      "cell_type": "code",
      "metadata": {
        "id": "VKFOXR5mr8YT"
      },
      "source": [
        "from fastbook import *\n",
        "import shutil\n",
        "from pandas.api.types import is_string_dtype, is_numeric_dtype, is_categorical_dtype\n",
        "from fastai.tabular.all import *\n",
        "from fastai.vision import *\n",
        "import seaborn as sns\n",
        "from sklearn.ensemble import RandomForestRegressor\n",
        "from sklearn.tree import DecisionTreeRegressor\n",
        "from dtreeviz.trees import *\n",
        "from IPython.display import Image, display_svg, SVG\n",
        "from utils import *\n",
        "\n",
        "pd.set_option('display.max_rows', 20)\n",
        "pd.set_option('display.max_columns', 17)\n",
        "pd.set_option('float_format', '{:f}'.format)"
      ],
      "execution_count": 3,
      "outputs": []
    },
    {
      "cell_type": "markdown",
      "metadata": {
        "id": "-XQUlf6bsLVC"
      },
      "source": [
        "# Load the data"
      ]
    },
    {
      "cell_type": "markdown",
      "metadata": {
        "id": "2SEvkaY_h9QQ"
      },
      "source": [
        "## Raw data analysis"
      ]
    },
    {
      "cell_type": "code",
      "metadata": {
        "id": "Ynah1tX_51cD"
      },
      "source": [
        "if not os.path.exists('taxi_test') :\n",
        "  os.mkdir('taxi_test')"
      ],
      "execution_count": 4,
      "outputs": []
    },
    {
      "cell_type": "code",
      "metadata": {
        "id": "nH3UGTk0uLg7"
      },
      "source": [
        "Path.BASE_PATH = Path('taxi_test')"
      ],
      "execution_count": 5,
      "outputs": []
    },
    {
      "cell_type": "markdown",
      "metadata": {
        "id": "IuzvlFXQ623z"
      },
      "source": [
        "From the site directly"
      ]
    },
    {
      "cell_type": "code",
      "metadata": {
        "colab": {
          "base_uri": "https://localhost:8080/"
        },
        "id": "aRwJcZb965FR",
        "outputId": "88c03591-cf0d-4dc5-afbe-cbae13bbda2b"
      },
      "source": [
        "# Retrieve the data from the NYC.gov website (this will take roughly 5 minutes)\n",
        "urls = ['https://s3.amazonaws.com/nyc-tlc/trip+data/yellow_tripdata_2017-03.csv', \n",
        "        'https://s3.amazonaws.com/nyc-tlc/trip+data/yellow_tripdata_2017-06.csv',\n",
        "        'https://s3.amazonaws.com/nyc-tlc/trip+data/yellow_tripdata_2017-11.csv']\n",
        "\n",
        "df = pd.DataFrame()\n",
        "\n",
        "# Load csv file one by one and concatenate into one big csv\n",
        "for url in urls :\n",
        "  print('Loading ', url.split('/')[-1], '...')\n",
        "  df_new = pd.read_csv(url, low_memory=True)\n",
        "  df = pd.concat([df, df_new])"
      ],
      "execution_count": 6,
      "outputs": [
        {
          "output_type": "stream",
          "text": [
            "Loading  yellow_tripdata_2017-03.csv ...\n",
            "Loading  yellow_tripdata_2017-06.csv ...\n",
            "Loading  yellow_tripdata_2017-11.csv ...\n"
          ],
          "name": "stdout"
        }
      ]
    },
    {
      "cell_type": "code",
      "metadata": {
        "id": "6ieN35ljr9kU",
        "colab": {
          "base_uri": "https://localhost:8080/"
        },
        "outputId": "f755ed46-4398-48e1-89b7-9cd47ff8e781"
      },
      "source": [
        "df.info()"
      ],
      "execution_count": 7,
      "outputs": [
        {
          "output_type": "stream",
          "text": [
            "<class 'pandas.core.frame.DataFrame'>\n",
            "Int64Index: 29236424 entries, 0 to 9284802\n",
            "Data columns (total 17 columns):\n",
            " #   Column                 Dtype  \n",
            "---  ------                 -----  \n",
            " 0   VendorID               int64  \n",
            " 1   tpep_pickup_datetime   object \n",
            " 2   tpep_dropoff_datetime  object \n",
            " 3   passenger_count        int64  \n",
            " 4   trip_distance          float64\n",
            " 5   RatecodeID             int64  \n",
            " 6   store_and_fwd_flag     object \n",
            " 7   PULocationID           int64  \n",
            " 8   DOLocationID           int64  \n",
            " 9   payment_type           int64  \n",
            " 10  fare_amount            float64\n",
            " 11  extra                  float64\n",
            " 12  mta_tax                float64\n",
            " 13  tip_amount             float64\n",
            " 14  tolls_amount           float64\n",
            " 15  improvement_surcharge  float64\n",
            " 16  total_amount           float64\n",
            "dtypes: float64(8), int64(6), object(3)\n",
            "memory usage: 3.9+ GB\n"
          ],
          "name": "stdout"
        }
      ]
    },
    {
      "cell_type": "code",
      "metadata": {
        "id": "2OAhnqs522TZ",
        "colab": {
          "base_uri": "https://localhost:8080/",
          "height": 427
        },
        "outputId": "049a7d56-0725-47bf-85d1-246f7c9cee26"
      },
      "source": [
        "df"
      ],
      "execution_count": 8,
      "outputs": [
        {
          "output_type": "execute_result",
          "data": {
            "text/html": [
              "<div>\n",
              "<style scoped>\n",
              "    .dataframe tbody tr th:only-of-type {\n",
              "        vertical-align: middle;\n",
              "    }\n",
              "\n",
              "    .dataframe tbody tr th {\n",
              "        vertical-align: top;\n",
              "    }\n",
              "\n",
              "    .dataframe thead th {\n",
              "        text-align: right;\n",
              "    }\n",
              "</style>\n",
              "<table border=\"1\" class=\"dataframe\">\n",
              "  <thead>\n",
              "    <tr style=\"text-align: right;\">\n",
              "      <th></th>\n",
              "      <th>VendorID</th>\n",
              "      <th>tpep_pickup_datetime</th>\n",
              "      <th>tpep_dropoff_datetime</th>\n",
              "      <th>passenger_count</th>\n",
              "      <th>trip_distance</th>\n",
              "      <th>RatecodeID</th>\n",
              "      <th>store_and_fwd_flag</th>\n",
              "      <th>PULocationID</th>\n",
              "      <th>DOLocationID</th>\n",
              "      <th>payment_type</th>\n",
              "      <th>fare_amount</th>\n",
              "      <th>extra</th>\n",
              "      <th>mta_tax</th>\n",
              "      <th>tip_amount</th>\n",
              "      <th>tolls_amount</th>\n",
              "      <th>improvement_surcharge</th>\n",
              "      <th>total_amount</th>\n",
              "    </tr>\n",
              "  </thead>\n",
              "  <tbody>\n",
              "    <tr>\n",
              "      <th>0</th>\n",
              "      <td>2</td>\n",
              "      <td>2017-03-09 21:30:11</td>\n",
              "      <td>2017-03-09 21:44:20</td>\n",
              "      <td>1</td>\n",
              "      <td>4.060000</td>\n",
              "      <td>1</td>\n",
              "      <td>N</td>\n",
              "      <td>148</td>\n",
              "      <td>48</td>\n",
              "      <td>1</td>\n",
              "      <td>14.000000</td>\n",
              "      <td>0.500000</td>\n",
              "      <td>0.500000</td>\n",
              "      <td>3.060000</td>\n",
              "      <td>0.000000</td>\n",
              "      <td>0.300000</td>\n",
              "      <td>18.360000</td>\n",
              "    </tr>\n",
              "    <tr>\n",
              "      <th>1</th>\n",
              "      <td>2</td>\n",
              "      <td>2017-03-09 21:47:00</td>\n",
              "      <td>2017-03-09 21:58:01</td>\n",
              "      <td>1</td>\n",
              "      <td>2.730000</td>\n",
              "      <td>1</td>\n",
              "      <td>N</td>\n",
              "      <td>48</td>\n",
              "      <td>107</td>\n",
              "      <td>2</td>\n",
              "      <td>11.500000</td>\n",
              "      <td>0.500000</td>\n",
              "      <td>0.500000</td>\n",
              "      <td>0.000000</td>\n",
              "      <td>0.000000</td>\n",
              "      <td>0.300000</td>\n",
              "      <td>12.800000</td>\n",
              "    </tr>\n",
              "    <tr>\n",
              "      <th>2</th>\n",
              "      <td>2</td>\n",
              "      <td>2017-03-09 22:01:08</td>\n",
              "      <td>2017-03-09 22:11:16</td>\n",
              "      <td>1</td>\n",
              "      <td>2.270000</td>\n",
              "      <td>1</td>\n",
              "      <td>N</td>\n",
              "      <td>79</td>\n",
              "      <td>162</td>\n",
              "      <td>1</td>\n",
              "      <td>10.000000</td>\n",
              "      <td>0.500000</td>\n",
              "      <td>0.500000</td>\n",
              "      <td>2.820000</td>\n",
              "      <td>0.000000</td>\n",
              "      <td>0.300000</td>\n",
              "      <td>14.120000</td>\n",
              "    </tr>\n",
              "    <tr>\n",
              "      <th>3</th>\n",
              "      <td>2</td>\n",
              "      <td>2017-03-09 22:16:05</td>\n",
              "      <td>2017-03-10 06:26:11</td>\n",
              "      <td>1</td>\n",
              "      <td>3.860000</td>\n",
              "      <td>1</td>\n",
              "      <td>N</td>\n",
              "      <td>237</td>\n",
              "      <td>41</td>\n",
              "      <td>1</td>\n",
              "      <td>12.000000</td>\n",
              "      <td>0.500000</td>\n",
              "      <td>0.500000</td>\n",
              "      <td>3.990000</td>\n",
              "      <td>0.000000</td>\n",
              "      <td>0.300000</td>\n",
              "      <td>17.290000</td>\n",
              "    </tr>\n",
              "    <tr>\n",
              "      <th>4</th>\n",
              "      <td>2</td>\n",
              "      <td>2017-03-31 06:31:53</td>\n",
              "      <td>2017-03-31 06:41:48</td>\n",
              "      <td>1</td>\n",
              "      <td>3.450000</td>\n",
              "      <td>1</td>\n",
              "      <td>N</td>\n",
              "      <td>41</td>\n",
              "      <td>162</td>\n",
              "      <td>2</td>\n",
              "      <td>12.000000</td>\n",
              "      <td>0.500000</td>\n",
              "      <td>0.500000</td>\n",
              "      <td>0.000000</td>\n",
              "      <td>0.000000</td>\n",
              "      <td>0.300000</td>\n",
              "      <td>13.300000</td>\n",
              "    </tr>\n",
              "    <tr>\n",
              "      <th>...</th>\n",
              "      <td>...</td>\n",
              "      <td>...</td>\n",
              "      <td>...</td>\n",
              "      <td>...</td>\n",
              "      <td>...</td>\n",
              "      <td>...</td>\n",
              "      <td>...</td>\n",
              "      <td>...</td>\n",
              "      <td>...</td>\n",
              "      <td>...</td>\n",
              "      <td>...</td>\n",
              "      <td>...</td>\n",
              "      <td>...</td>\n",
              "      <td>...</td>\n",
              "      <td>...</td>\n",
              "      <td>...</td>\n",
              "      <td>...</td>\n",
              "    </tr>\n",
              "    <tr>\n",
              "      <th>9284798</th>\n",
              "      <td>2</td>\n",
              "      <td>2017-11-30 23:27:24</td>\n",
              "      <td>2017-11-30 23:48:15</td>\n",
              "      <td>1</td>\n",
              "      <td>3.160000</td>\n",
              "      <td>1</td>\n",
              "      <td>N</td>\n",
              "      <td>90</td>\n",
              "      <td>141</td>\n",
              "      <td>1</td>\n",
              "      <td>15.000000</td>\n",
              "      <td>0.500000</td>\n",
              "      <td>0.500000</td>\n",
              "      <td>2.700000</td>\n",
              "      <td>0.000000</td>\n",
              "      <td>0.300000</td>\n",
              "      <td>19.000000</td>\n",
              "    </tr>\n",
              "    <tr>\n",
              "      <th>9284799</th>\n",
              "      <td>1</td>\n",
              "      <td>2017-11-30 23:59:05</td>\n",
              "      <td>2017-11-30 23:59:14</td>\n",
              "      <td>1</td>\n",
              "      <td>0.000000</td>\n",
              "      <td>1</td>\n",
              "      <td>N</td>\n",
              "      <td>25</td>\n",
              "      <td>25</td>\n",
              "      <td>2</td>\n",
              "      <td>2.500000</td>\n",
              "      <td>0.500000</td>\n",
              "      <td>0.500000</td>\n",
              "      <td>0.000000</td>\n",
              "      <td>0.000000</td>\n",
              "      <td>0.300000</td>\n",
              "      <td>3.800000</td>\n",
              "    </tr>\n",
              "    <tr>\n",
              "      <th>9284800</th>\n",
              "      <td>2</td>\n",
              "      <td>2017-11-30 23:17:20</td>\n",
              "      <td>2017-11-30 23:39:33</td>\n",
              "      <td>1</td>\n",
              "      <td>10.280000</td>\n",
              "      <td>1</td>\n",
              "      <td>N</td>\n",
              "      <td>161</td>\n",
              "      <td>127</td>\n",
              "      <td>1</td>\n",
              "      <td>30.000000</td>\n",
              "      <td>0.500000</td>\n",
              "      <td>0.500000</td>\n",
              "      <td>6.260000</td>\n",
              "      <td>0.000000</td>\n",
              "      <td>0.300000</td>\n",
              "      <td>37.560000</td>\n",
              "    </tr>\n",
              "    <tr>\n",
              "      <th>9284801</th>\n",
              "      <td>2</td>\n",
              "      <td>2017-11-30 22:52:40</td>\n",
              "      <td>2017-11-30 23:27:26</td>\n",
              "      <td>1</td>\n",
              "      <td>5.800000</td>\n",
              "      <td>1</td>\n",
              "      <td>N</td>\n",
              "      <td>113</td>\n",
              "      <td>181</td>\n",
              "      <td>1</td>\n",
              "      <td>24.500000</td>\n",
              "      <td>0.500000</td>\n",
              "      <td>0.500000</td>\n",
              "      <td>5.160000</td>\n",
              "      <td>0.000000</td>\n",
              "      <td>0.300000</td>\n",
              "      <td>30.960000</td>\n",
              "    </tr>\n",
              "    <tr>\n",
              "      <th>9284802</th>\n",
              "      <td>2</td>\n",
              "      <td>2017-11-30 23:33:39</td>\n",
              "      <td>2017-11-30 23:42:54</td>\n",
              "      <td>1</td>\n",
              "      <td>1.680000</td>\n",
              "      <td>1</td>\n",
              "      <td>N</td>\n",
              "      <td>181</td>\n",
              "      <td>25</td>\n",
              "      <td>1</td>\n",
              "      <td>8.500000</td>\n",
              "      <td>0.500000</td>\n",
              "      <td>0.500000</td>\n",
              "      <td>2.450000</td>\n",
              "      <td>0.000000</td>\n",
              "      <td>0.300000</td>\n",
              "      <td>12.250000</td>\n",
              "    </tr>\n",
              "  </tbody>\n",
              "</table>\n",
              "<p>29236424 rows × 17 columns</p>\n",
              "</div>"
            ],
            "text/plain": [
              "         VendorID tpep_pickup_datetime tpep_dropoff_datetime  passenger_count  \\\n",
              "0               2  2017-03-09 21:30:11   2017-03-09 21:44:20                1   \n",
              "1               2  2017-03-09 21:47:00   2017-03-09 21:58:01                1   \n",
              "2               2  2017-03-09 22:01:08   2017-03-09 22:11:16                1   \n",
              "3               2  2017-03-09 22:16:05   2017-03-10 06:26:11                1   \n",
              "4               2  2017-03-31 06:31:53   2017-03-31 06:41:48                1   \n",
              "...           ...                  ...                   ...              ...   \n",
              "9284798         2  2017-11-30 23:27:24   2017-11-30 23:48:15                1   \n",
              "9284799         1  2017-11-30 23:59:05   2017-11-30 23:59:14                1   \n",
              "9284800         2  2017-11-30 23:17:20   2017-11-30 23:39:33                1   \n",
              "9284801         2  2017-11-30 22:52:40   2017-11-30 23:27:26                1   \n",
              "9284802         2  2017-11-30 23:33:39   2017-11-30 23:42:54                1   \n",
              "\n",
              "         trip_distance  RatecodeID store_and_fwd_flag  PULocationID  \\\n",
              "0             4.060000           1                  N           148   \n",
              "1             2.730000           1                  N            48   \n",
              "2             2.270000           1                  N            79   \n",
              "3             3.860000           1                  N           237   \n",
              "4             3.450000           1                  N            41   \n",
              "...                ...         ...                ...           ...   \n",
              "9284798       3.160000           1                  N            90   \n",
              "9284799       0.000000           1                  N            25   \n",
              "9284800      10.280000           1                  N           161   \n",
              "9284801       5.800000           1                  N           113   \n",
              "9284802       1.680000           1                  N           181   \n",
              "\n",
              "         DOLocationID  payment_type  fare_amount    extra  mta_tax  \\\n",
              "0                  48             1    14.000000 0.500000 0.500000   \n",
              "1                 107             2    11.500000 0.500000 0.500000   \n",
              "2                 162             1    10.000000 0.500000 0.500000   \n",
              "3                  41             1    12.000000 0.500000 0.500000   \n",
              "4                 162             2    12.000000 0.500000 0.500000   \n",
              "...               ...           ...          ...      ...      ...   \n",
              "9284798           141             1    15.000000 0.500000 0.500000   \n",
              "9284799            25             2     2.500000 0.500000 0.500000   \n",
              "9284800           127             1    30.000000 0.500000 0.500000   \n",
              "9284801           181             1    24.500000 0.500000 0.500000   \n",
              "9284802            25             1     8.500000 0.500000 0.500000   \n",
              "\n",
              "         tip_amount  tolls_amount  improvement_surcharge  total_amount  \n",
              "0          3.060000      0.000000               0.300000     18.360000  \n",
              "1          0.000000      0.000000               0.300000     12.800000  \n",
              "2          2.820000      0.000000               0.300000     14.120000  \n",
              "3          3.990000      0.000000               0.300000     17.290000  \n",
              "4          0.000000      0.000000               0.300000     13.300000  \n",
              "...             ...           ...                    ...           ...  \n",
              "9284798    2.700000      0.000000               0.300000     19.000000  \n",
              "9284799    0.000000      0.000000               0.300000      3.800000  \n",
              "9284800    6.260000      0.000000               0.300000     37.560000  \n",
              "9284801    5.160000      0.000000               0.300000     30.960000  \n",
              "9284802    2.450000      0.000000               0.300000     12.250000  \n",
              "\n",
              "[29236424 rows x 17 columns]"
            ]
          },
          "metadata": {
            "tags": []
          },
          "execution_count": 8
        }
      ]
    },
    {
      "cell_type": "markdown",
      "metadata": {
        "id": "iNYUuAlP31q7"
      },
      "source": [
        "How many rows x columns do we have here?"
      ]
    },
    {
      "cell_type": "code",
      "metadata": {
        "id": "nDMKaZ-X3tW7",
        "colab": {
          "base_uri": "https://localhost:8080/"
        },
        "outputId": "484d678c-7727-41a0-d6d5-74781c1ac2ca"
      },
      "source": [
        "df.shape"
      ],
      "execution_count": 9,
      "outputs": [
        {
          "output_type": "execute_result",
          "data": {
            "text/plain": [
              "(29236424, 17)"
            ]
          },
          "metadata": {
            "tags": []
          },
          "execution_count": 9
        }
      ]
    },
    {
      "cell_type": "markdown",
      "metadata": {
        "id": "4HSEdJIh3z36"
      },
      "source": [
        "Check for missing values\n"
      ]
    },
    {
      "cell_type": "code",
      "metadata": {
        "id": "fSCEpV6735Wj",
        "colab": {
          "base_uri": "https://localhost:8080/"
        },
        "outputId": "03977241-5c3d-460f-9901-473c10da80d0"
      },
      "source": [
        "df.isnull().sum()"
      ],
      "execution_count": 10,
      "outputs": [
        {
          "output_type": "execute_result",
          "data": {
            "text/plain": [
              "VendorID                 0\n",
              "tpep_pickup_datetime     0\n",
              "tpep_dropoff_datetime    0\n",
              "passenger_count          0\n",
              "trip_distance            0\n",
              "RatecodeID               0\n",
              "store_and_fwd_flag       0\n",
              "PULocationID             0\n",
              "DOLocationID             0\n",
              "payment_type             0\n",
              "fare_amount              0\n",
              "extra                    0\n",
              "mta_tax                  0\n",
              "tip_amount               0\n",
              "tolls_amount             0\n",
              "improvement_surcharge    0\n",
              "total_amount             0\n",
              "dtype: int64"
            ]
          },
          "metadata": {
            "tags": []
          },
          "execution_count": 10
        }
      ]
    },
    {
      "cell_type": "markdown",
      "metadata": {
        "id": "D_hRSn-f87vi"
      },
      "source": [
        "What was the highest price?"
      ]
    },
    {
      "cell_type": "code",
      "metadata": {
        "id": "rOsNLu8p88Ga",
        "colab": {
          "base_uri": "https://localhost:8080/",
          "height": 98
        },
        "outputId": "33f26a1c-da79-465f-b537-e0639190a01a"
      },
      "source": [
        "highest_fare = df[df.total_amount == df.total_amount.max()]\n",
        "highest_fare"
      ],
      "execution_count": 13,
      "outputs": [
        {
          "output_type": "execute_result",
          "data": {
            "text/html": [
              "<div>\n",
              "<style scoped>\n",
              "    .dataframe tbody tr th:only-of-type {\n",
              "        vertical-align: middle;\n",
              "    }\n",
              "\n",
              "    .dataframe tbody tr th {\n",
              "        vertical-align: top;\n",
              "    }\n",
              "\n",
              "    .dataframe thead th {\n",
              "        text-align: right;\n",
              "    }\n",
              "</style>\n",
              "<table border=\"1\" class=\"dataframe\">\n",
              "  <thead>\n",
              "    <tr style=\"text-align: right;\">\n",
              "      <th></th>\n",
              "      <th>VendorID</th>\n",
              "      <th>tpep_pickup_datetime</th>\n",
              "      <th>tpep_dropoff_datetime</th>\n",
              "      <th>passenger_count</th>\n",
              "      <th>trip_distance</th>\n",
              "      <th>RatecodeID</th>\n",
              "      <th>store_and_fwd_flag</th>\n",
              "      <th>PULocationID</th>\n",
              "      <th>DOLocationID</th>\n",
              "      <th>payment_type</th>\n",
              "      <th>fare_amount</th>\n",
              "      <th>extra</th>\n",
              "      <th>mta_tax</th>\n",
              "      <th>tip_amount</th>\n",
              "      <th>tolls_amount</th>\n",
              "      <th>improvement_surcharge</th>\n",
              "      <th>total_amount</th>\n",
              "    </tr>\n",
              "  </thead>\n",
              "  <tbody>\n",
              "    <tr>\n",
              "      <th>5773420</th>\n",
              "      <td>1</td>\n",
              "      <td>2017-06-20 22:34:58</td>\n",
              "      <td>2017-06-20 22:39:16</td>\n",
              "      <td>1</td>\n",
              "      <td>0.800000</td>\n",
              "      <td>1</td>\n",
              "      <td>N</td>\n",
              "      <td>141</td>\n",
              "      <td>141</td>\n",
              "      <td>2</td>\n",
              "      <td>630461.820000</td>\n",
              "      <td>0.500000</td>\n",
              "      <td>0.500000</td>\n",
              "      <td>0.000000</td>\n",
              "      <td>0.000000</td>\n",
              "      <td>0.300000</td>\n",
              "      <td>630463.120000</td>\n",
              "    </tr>\n",
              "  </tbody>\n",
              "</table>\n",
              "</div>"
            ],
            "text/plain": [
              "         VendorID tpep_pickup_datetime tpep_dropoff_datetime  passenger_count  \\\n",
              "5773420         1  2017-06-20 22:34:58   2017-06-20 22:39:16                1   \n",
              "\n",
              "         trip_distance  RatecodeID store_and_fwd_flag  PULocationID  \\\n",
              "5773420       0.800000           1                  N           141   \n",
              "\n",
              "         DOLocationID  payment_type   fare_amount    extra  mta_tax  \\\n",
              "5773420           141             2 630461.820000 0.500000 0.500000   \n",
              "\n",
              "         tip_amount  tolls_amount  improvement_surcharge  total_amount  \n",
              "5773420    0.000000      0.000000               0.300000 630463.120000  "
            ]
          },
          "metadata": {
            "tags": []
          },
          "execution_count": 13
        }
      ]
    },
    {
      "cell_type": "markdown",
      "metadata": {
        "id": "6tzd8_k888Oy"
      },
      "source": [
        "Ride price of $630,000 and `trip_distance` of 0.8? This surely has to be a mistake."
      ]
    },
    {
      "cell_type": "code",
      "metadata": {
        "id": "n77VVPvs9om6",
        "colab": {
          "base_uri": "https://localhost:8080/",
          "height": 138
        },
        "outputId": "7e1d0fff-50ee-4062-a113-d690f17b0b07"
      },
      "source": [
        "df.groupby('VendorID').total_amount.describe()"
      ],
      "execution_count": 16,
      "outputs": [
        {
          "output_type": "execute_result",
          "data": {
            "text/html": [
              "<div>\n",
              "<style scoped>\n",
              "    .dataframe tbody tr th:only-of-type {\n",
              "        vertical-align: middle;\n",
              "    }\n",
              "\n",
              "    .dataframe tbody tr th {\n",
              "        vertical-align: top;\n",
              "    }\n",
              "\n",
              "    .dataframe thead th {\n",
              "        text-align: right;\n",
              "    }\n",
              "</style>\n",
              "<table border=\"1\" class=\"dataframe\">\n",
              "  <thead>\n",
              "    <tr style=\"text-align: right;\">\n",
              "      <th></th>\n",
              "      <th>count</th>\n",
              "      <th>mean</th>\n",
              "      <th>std</th>\n",
              "      <th>min</th>\n",
              "      <th>25%</th>\n",
              "      <th>50%</th>\n",
              "      <th>75%</th>\n",
              "      <th>max</th>\n",
              "    </tr>\n",
              "    <tr>\n",
              "      <th>VendorID</th>\n",
              "      <th></th>\n",
              "      <th></th>\n",
              "      <th></th>\n",
              "      <th></th>\n",
              "      <th></th>\n",
              "      <th></th>\n",
              "      <th></th>\n",
              "      <th></th>\n",
              "    </tr>\n",
              "  </thead>\n",
              "  <tbody>\n",
              "    <tr>\n",
              "      <th>1</th>\n",
              "      <td>13276147.000000</td>\n",
              "      <td>16.232723</td>\n",
              "      <td>218.265102</td>\n",
              "      <td>0.000000</td>\n",
              "      <td>8.500000</td>\n",
              "      <td>11.800000</td>\n",
              "      <td>17.800000</td>\n",
              "      <td>630463.120000</td>\n",
              "    </tr>\n",
              "    <tr>\n",
              "      <th>2</th>\n",
              "      <td>15960277.000000</td>\n",
              "      <td>16.625425</td>\n",
              "      <td>15.463739</td>\n",
              "      <td>-550.300000</td>\n",
              "      <td>8.760000</td>\n",
              "      <td>11.840000</td>\n",
              "      <td>18.300000</td>\n",
              "      <td>9999.990000</td>\n",
              "    </tr>\n",
              "  </tbody>\n",
              "</table>\n",
              "</div>"
            ],
            "text/plain": [
              "                   count      mean        std         min      25%       50%  \\\n",
              "VendorID                                                                       \n",
              "1        13276147.000000 16.232723 218.265102    0.000000 8.500000 11.800000   \n",
              "2        15960277.000000 16.625425  15.463739 -550.300000 8.760000 11.840000   \n",
              "\n",
              "               75%           max  \n",
              "VendorID                          \n",
              "1        17.800000 630463.120000  \n",
              "2        18.300000   9999.990000  "
            ]
          },
          "metadata": {
            "tags": []
          },
          "execution_count": 16
        }
      ]
    },
    {
      "cell_type": "markdown",
      "metadata": {
        "id": "PC6zeRsD9ojK"
      },
      "source": [
        "Looks like these mistakes happen mainly with vendor 1, \"Creative Mobile Technologies\". For our example company, I would advise choosing the second company for cleaner data."
      ]
    },
    {
      "cell_type": "markdown",
      "metadata": {
        "id": "nqbVw3pqEnKT"
      },
      "source": [
        "### Find the outliers"
      ]
    },
    {
      "cell_type": "code",
      "metadata": {
        "colab": {
          "base_uri": "https://localhost:8080/",
          "height": 308
        },
        "id": "RWUFuWw48GNF",
        "outputId": "b358eb5c-93be-4ab7-d551-8e73dd4d9f16"
      },
      "source": [
        "df.describe()"
      ],
      "execution_count": 18,
      "outputs": [
        {
          "output_type": "execute_result",
          "data": {
            "text/html": [
              "<div>\n",
              "<style scoped>\n",
              "    .dataframe tbody tr th:only-of-type {\n",
              "        vertical-align: middle;\n",
              "    }\n",
              "\n",
              "    .dataframe tbody tr th {\n",
              "        vertical-align: top;\n",
              "    }\n",
              "\n",
              "    .dataframe thead th {\n",
              "        text-align: right;\n",
              "    }\n",
              "</style>\n",
              "<table border=\"1\" class=\"dataframe\">\n",
              "  <thead>\n",
              "    <tr style=\"text-align: right;\">\n",
              "      <th></th>\n",
              "      <th>VendorID</th>\n",
              "      <th>passenger_count</th>\n",
              "      <th>trip_distance</th>\n",
              "      <th>RatecodeID</th>\n",
              "      <th>PULocationID</th>\n",
              "      <th>DOLocationID</th>\n",
              "      <th>payment_type</th>\n",
              "      <th>fare_amount</th>\n",
              "      <th>extra</th>\n",
              "      <th>mta_tax</th>\n",
              "      <th>tip_amount</th>\n",
              "      <th>tolls_amount</th>\n",
              "      <th>improvement_surcharge</th>\n",
              "      <th>total_amount</th>\n",
              "    </tr>\n",
              "  </thead>\n",
              "  <tbody>\n",
              "    <tr>\n",
              "      <th>count</th>\n",
              "      <td>29236424.000000</td>\n",
              "      <td>29236424.000000</td>\n",
              "      <td>29236424.000000</td>\n",
              "      <td>29236424.000000</td>\n",
              "      <td>29236424.000000</td>\n",
              "      <td>29236424.000000</td>\n",
              "      <td>29236424.000000</td>\n",
              "      <td>29236424.000000</td>\n",
              "      <td>29236424.000000</td>\n",
              "      <td>29236424.000000</td>\n",
              "      <td>29236424.000000</td>\n",
              "      <td>29236424.000000</td>\n",
              "      <td>29236424.000000</td>\n",
              "      <td>29236424.000000</td>\n",
              "    </tr>\n",
              "    <tr>\n",
              "      <th>mean</th>\n",
              "      <td>1.545904</td>\n",
              "      <td>1.617798</td>\n",
              "      <td>2.919386</td>\n",
              "      <td>1.043350</td>\n",
              "      <td>163.202353</td>\n",
              "      <td>161.190994</td>\n",
              "      <td>1.329500</td>\n",
              "      <td>13.109297</td>\n",
              "      <td>0.333941</td>\n",
              "      <td>0.497310</td>\n",
              "      <td>1.874055</td>\n",
              "      <td>0.329011</td>\n",
              "      <td>0.299628</td>\n",
              "      <td>16.447101</td>\n",
              "    </tr>\n",
              "    <tr>\n",
              "      <th>std</th>\n",
              "      <td>0.497888</td>\n",
              "      <td>1.260992</td>\n",
              "      <td>4.476535</td>\n",
              "      <td>0.509511</td>\n",
              "      <td>66.614169</td>\n",
              "      <td>70.478191</td>\n",
              "      <td>0.490347</td>\n",
              "      <td>147.281670</td>\n",
              "      <td>0.461574</td>\n",
              "      <td>0.070817</td>\n",
              "      <td>2.645570</td>\n",
              "      <td>1.968881</td>\n",
              "      <td>0.014089</td>\n",
              "      <td>147.524780</td>\n",
              "    </tr>\n",
              "    <tr>\n",
              "      <th>min</th>\n",
              "      <td>1.000000</td>\n",
              "      <td>0.000000</td>\n",
              "      <td>0.000000</td>\n",
              "      <td>1.000000</td>\n",
              "      <td>1.000000</td>\n",
              "      <td>1.000000</td>\n",
              "      <td>1.000000</td>\n",
              "      <td>-550.000000</td>\n",
              "      <td>-53.710000</td>\n",
              "      <td>-0.500000</td>\n",
              "      <td>-112.000000</td>\n",
              "      <td>-17.500000</td>\n",
              "      <td>-0.300000</td>\n",
              "      <td>-550.300000</td>\n",
              "    </tr>\n",
              "    <tr>\n",
              "      <th>25%</th>\n",
              "      <td>1.000000</td>\n",
              "      <td>1.000000</td>\n",
              "      <td>0.970000</td>\n",
              "      <td>1.000000</td>\n",
              "      <td>114.000000</td>\n",
              "      <td>107.000000</td>\n",
              "      <td>1.000000</td>\n",
              "      <td>6.500000</td>\n",
              "      <td>0.000000</td>\n",
              "      <td>0.500000</td>\n",
              "      <td>0.000000</td>\n",
              "      <td>0.000000</td>\n",
              "      <td>0.300000</td>\n",
              "      <td>8.750000</td>\n",
              "    </tr>\n",
              "    <tr>\n",
              "      <th>50%</th>\n",
              "      <td>2.000000</td>\n",
              "      <td>1.000000</td>\n",
              "      <td>1.600000</td>\n",
              "      <td>1.000000</td>\n",
              "      <td>162.000000</td>\n",
              "      <td>162.000000</td>\n",
              "      <td>1.000000</td>\n",
              "      <td>9.500000</td>\n",
              "      <td>0.000000</td>\n",
              "      <td>0.500000</td>\n",
              "      <td>1.360000</td>\n",
              "      <td>0.000000</td>\n",
              "      <td>0.300000</td>\n",
              "      <td>11.800000</td>\n",
              "    </tr>\n",
              "    <tr>\n",
              "      <th>75%</th>\n",
              "      <td>2.000000</td>\n",
              "      <td>2.000000</td>\n",
              "      <td>3.010000</td>\n",
              "      <td>1.000000</td>\n",
              "      <td>233.000000</td>\n",
              "      <td>233.000000</td>\n",
              "      <td>2.000000</td>\n",
              "      <td>14.500000</td>\n",
              "      <td>0.500000</td>\n",
              "      <td>0.500000</td>\n",
              "      <td>2.460000</td>\n",
              "      <td>0.000000</td>\n",
              "      <td>0.300000</td>\n",
              "      <td>17.800000</td>\n",
              "    </tr>\n",
              "    <tr>\n",
              "      <th>max</th>\n",
              "      <td>2.000000</td>\n",
              "      <td>192.000000</td>\n",
              "      <td>9496.980000</td>\n",
              "      <td>99.000000</td>\n",
              "      <td>265.000000</td>\n",
              "      <td>265.000000</td>\n",
              "      <td>5.000000</td>\n",
              "      <td>630461.820000</td>\n",
              "      <td>69.800000</td>\n",
              "      <td>140.000000</td>\n",
              "      <td>450.000000</td>\n",
              "      <td>1018.950000</td>\n",
              "      <td>1.000000</td>\n",
              "      <td>630463.120000</td>\n",
              "    </tr>\n",
              "  </tbody>\n",
              "</table>\n",
              "</div>"
            ],
            "text/plain": [
              "             VendorID  passenger_count   trip_distance      RatecodeID  \\\n",
              "count 29236424.000000  29236424.000000 29236424.000000 29236424.000000   \n",
              "mean         1.545904         1.617798        2.919386        1.043350   \n",
              "std          0.497888         1.260992        4.476535        0.509511   \n",
              "min          1.000000         0.000000        0.000000        1.000000   \n",
              "25%          1.000000         1.000000        0.970000        1.000000   \n",
              "50%          2.000000         1.000000        1.600000        1.000000   \n",
              "75%          2.000000         2.000000        3.010000        1.000000   \n",
              "max          2.000000       192.000000     9496.980000       99.000000   \n",
              "\n",
              "         PULocationID    DOLocationID    payment_type     fare_amount  \\\n",
              "count 29236424.000000 29236424.000000 29236424.000000 29236424.000000   \n",
              "mean       163.202353      161.190994        1.329500       13.109297   \n",
              "std         66.614169       70.478191        0.490347      147.281670   \n",
              "min          1.000000        1.000000        1.000000     -550.000000   \n",
              "25%        114.000000      107.000000        1.000000        6.500000   \n",
              "50%        162.000000      162.000000        1.000000        9.500000   \n",
              "75%        233.000000      233.000000        2.000000       14.500000   \n",
              "max        265.000000      265.000000        5.000000   630461.820000   \n",
              "\n",
              "                extra         mta_tax      tip_amount    tolls_amount  \\\n",
              "count 29236424.000000 29236424.000000 29236424.000000 29236424.000000   \n",
              "mean         0.333941        0.497310        1.874055        0.329011   \n",
              "std          0.461574        0.070817        2.645570        1.968881   \n",
              "min        -53.710000       -0.500000     -112.000000      -17.500000   \n",
              "25%          0.000000        0.500000        0.000000        0.000000   \n",
              "50%          0.000000        0.500000        1.360000        0.000000   \n",
              "75%          0.500000        0.500000        2.460000        0.000000   \n",
              "max         69.800000      140.000000      450.000000     1018.950000   \n",
              "\n",
              "       improvement_surcharge    total_amount  \n",
              "count        29236424.000000 29236424.000000  \n",
              "mean                0.299628       16.447101  \n",
              "std                 0.014089      147.524780  \n",
              "min                -0.300000     -550.300000  \n",
              "25%                 0.300000        8.750000  \n",
              "50%                 0.300000       11.800000  \n",
              "75%                 0.300000       17.800000  \n",
              "max                 1.000000   630463.120000  "
            ]
          },
          "metadata": {
            "tags": []
          },
          "execution_count": 18
        }
      ]
    },
    {
      "cell_type": "markdown",
      "metadata": {
        "id": "P2vB-dMf9McJ"
      },
      "source": [
        "#### Price (`total_amount`)"
      ]
    },
    {
      "cell_type": "code",
      "metadata": {
        "id": "_jrnF6_KEpL-",
        "colab": {
          "base_uri": "https://localhost:8080/"
        },
        "outputId": "a27990a3-eb8f-4baa-f4dc-8cfaaea412b4"
      },
      "source": [
        "price_min_threshold = df['total_amount'].quantile(0.001)\n",
        "price_max_threshold =  df['total_amount'].quantile(0.999)\n",
        "price_min_threshold, price_max_threshold"
      ],
      "execution_count": 19,
      "outputs": [
        {
          "output_type": "execute_result",
          "data": {
            "text/plain": [
              "(3.3, 114.46)"
            ]
          },
          "metadata": {
            "tags": []
          },
          "execution_count": 19
        }
      ]
    },
    {
      "cell_type": "code",
      "metadata": {
        "id": "ZStlsY2IJCG3",
        "colab": {
          "base_uri": "https://localhost:8080/",
          "height": 422
        },
        "outputId": "128e8b71-53b4-4259-f19d-8fa5d79f38fd"
      },
      "source": [
        "df[df['total_amount'] > price_max_threshold]"
      ],
      "execution_count": 20,
      "outputs": [
        {
          "output_type": "execute_result",
          "data": {
            "text/html": [
              "<div>\n",
              "<style scoped>\n",
              "    .dataframe tbody tr th:only-of-type {\n",
              "        vertical-align: middle;\n",
              "    }\n",
              "\n",
              "    .dataframe tbody tr th {\n",
              "        vertical-align: top;\n",
              "    }\n",
              "\n",
              "    .dataframe thead th {\n",
              "        text-align: right;\n",
              "    }\n",
              "</style>\n",
              "<table border=\"1\" class=\"dataframe\">\n",
              "  <thead>\n",
              "    <tr style=\"text-align: right;\">\n",
              "      <th></th>\n",
              "      <th>VendorID</th>\n",
              "      <th>tpep_pickup_datetime</th>\n",
              "      <th>tpep_dropoff_datetime</th>\n",
              "      <th>passenger_count</th>\n",
              "      <th>trip_distance</th>\n",
              "      <th>RatecodeID</th>\n",
              "      <th>store_and_fwd_flag</th>\n",
              "      <th>PULocationID</th>\n",
              "      <th>DOLocationID</th>\n",
              "      <th>payment_type</th>\n",
              "      <th>fare_amount</th>\n",
              "      <th>extra</th>\n",
              "      <th>mta_tax</th>\n",
              "      <th>tip_amount</th>\n",
              "      <th>tolls_amount</th>\n",
              "      <th>improvement_surcharge</th>\n",
              "      <th>total_amount</th>\n",
              "    </tr>\n",
              "  </thead>\n",
              "  <tbody>\n",
              "    <tr>\n",
              "      <th>159</th>\n",
              "      <td>1</td>\n",
              "      <td>2017-03-01 00:00:52</td>\n",
              "      <td>2017-03-01 00:02:00</td>\n",
              "      <td>1</td>\n",
              "      <td>0.100000</td>\n",
              "      <td>5</td>\n",
              "      <td>N</td>\n",
              "      <td>265</td>\n",
              "      <td>265</td>\n",
              "      <td>1</td>\n",
              "      <td>110.000000</td>\n",
              "      <td>0.000000</td>\n",
              "      <td>0.000000</td>\n",
              "      <td>22.050000</td>\n",
              "      <td>0.000000</td>\n",
              "      <td>0.300000</td>\n",
              "      <td>132.350000</td>\n",
              "    </tr>\n",
              "    <tr>\n",
              "      <th>3667</th>\n",
              "      <td>1</td>\n",
              "      <td>2017-03-10 14:21:25</td>\n",
              "      <td>2017-03-10 15:23:17</td>\n",
              "      <td>1</td>\n",
              "      <td>37.600000</td>\n",
              "      <td>3</td>\n",
              "      <td>N</td>\n",
              "      <td>132</td>\n",
              "      <td>1</td>\n",
              "      <td>1</td>\n",
              "      <td>116.000000</td>\n",
              "      <td>0.000000</td>\n",
              "      <td>0.000000</td>\n",
              "      <td>10.000000</td>\n",
              "      <td>26.580000</td>\n",
              "      <td>0.300000</td>\n",
              "      <td>152.880000</td>\n",
              "    </tr>\n",
              "    <tr>\n",
              "      <th>4832</th>\n",
              "      <td>2</td>\n",
              "      <td>2017-03-10 14:25:25</td>\n",
              "      <td>2017-03-10 15:23:32</td>\n",
              "      <td>1</td>\n",
              "      <td>27.910000</td>\n",
              "      <td>5</td>\n",
              "      <td>N</td>\n",
              "      <td>194</td>\n",
              "      <td>1</td>\n",
              "      <td>1</td>\n",
              "      <td>110.000000</td>\n",
              "      <td>0.000000</td>\n",
              "      <td>0.500000</td>\n",
              "      <td>20.000000</td>\n",
              "      <td>16.040000</td>\n",
              "      <td>0.300000</td>\n",
              "      <td>146.840000</td>\n",
              "    </tr>\n",
              "    <tr>\n",
              "      <th>4900</th>\n",
              "      <td>1</td>\n",
              "      <td>2017-03-10 14:25:40</td>\n",
              "      <td>2017-03-10 14:25:40</td>\n",
              "      <td>0</td>\n",
              "      <td>0.000000</td>\n",
              "      <td>99</td>\n",
              "      <td>N</td>\n",
              "      <td>264</td>\n",
              "      <td>264</td>\n",
              "      <td>1</td>\n",
              "      <td>117.000000</td>\n",
              "      <td>0.000000</td>\n",
              "      <td>0.000000</td>\n",
              "      <td>0.000000</td>\n",
              "      <td>0.000000</td>\n",
              "      <td>0.000000</td>\n",
              "      <td>117.000000</td>\n",
              "    </tr>\n",
              "    <tr>\n",
              "      <th>5186</th>\n",
              "      <td>2</td>\n",
              "      <td>2017-03-10 14:26:39</td>\n",
              "      <td>2017-03-10 15:18:11</td>\n",
              "      <td>1</td>\n",
              "      <td>21.460000</td>\n",
              "      <td>3</td>\n",
              "      <td>N</td>\n",
              "      <td>161</td>\n",
              "      <td>1</td>\n",
              "      <td>1</td>\n",
              "      <td>82.000000</td>\n",
              "      <td>0.000000</td>\n",
              "      <td>0.000000</td>\n",
              "      <td>19.880000</td>\n",
              "      <td>17.100000</td>\n",
              "      <td>0.300000</td>\n",
              "      <td>119.280000</td>\n",
              "    </tr>\n",
              "    <tr>\n",
              "      <th>...</th>\n",
              "      <td>...</td>\n",
              "      <td>...</td>\n",
              "      <td>...</td>\n",
              "      <td>...</td>\n",
              "      <td>...</td>\n",
              "      <td>...</td>\n",
              "      <td>...</td>\n",
              "      <td>...</td>\n",
              "      <td>...</td>\n",
              "      <td>...</td>\n",
              "      <td>...</td>\n",
              "      <td>...</td>\n",
              "      <td>...</td>\n",
              "      <td>...</td>\n",
              "      <td>...</td>\n",
              "      <td>...</td>\n",
              "      <td>...</td>\n",
              "    </tr>\n",
              "    <tr>\n",
              "      <th>9279063</th>\n",
              "      <td>1</td>\n",
              "      <td>2017-11-30 23:11:50</td>\n",
              "      <td>2017-11-30 23:58:55</td>\n",
              "      <td>1</td>\n",
              "      <td>25.900000</td>\n",
              "      <td>5</td>\n",
              "      <td>N</td>\n",
              "      <td>132</td>\n",
              "      <td>265</td>\n",
              "      <td>1</td>\n",
              "      <td>99.000000</td>\n",
              "      <td>0.000000</td>\n",
              "      <td>0.000000</td>\n",
              "      <td>23.100000</td>\n",
              "      <td>16.260000</td>\n",
              "      <td>0.300000</td>\n",
              "      <td>138.660000</td>\n",
              "    </tr>\n",
              "    <tr>\n",
              "      <th>9282821</th>\n",
              "      <td>1</td>\n",
              "      <td>2017-11-30 23:04:07</td>\n",
              "      <td>2017-12-01 00:22:47</td>\n",
              "      <td>1</td>\n",
              "      <td>49.000000</td>\n",
              "      <td>5</td>\n",
              "      <td>N</td>\n",
              "      <td>132</td>\n",
              "      <td>265</td>\n",
              "      <td>1</td>\n",
              "      <td>150.000000</td>\n",
              "      <td>0.000000</td>\n",
              "      <td>0.000000</td>\n",
              "      <td>140.000000</td>\n",
              "      <td>11.520000</td>\n",
              "      <td>0.300000</td>\n",
              "      <td>301.820000</td>\n",
              "    </tr>\n",
              "    <tr>\n",
              "      <th>9283598</th>\n",
              "      <td>1</td>\n",
              "      <td>2017-11-30 23:29:32</td>\n",
              "      <td>2017-11-30 23:59:02</td>\n",
              "      <td>2</td>\n",
              "      <td>29.700000</td>\n",
              "      <td>5</td>\n",
              "      <td>N</td>\n",
              "      <td>265</td>\n",
              "      <td>265</td>\n",
              "      <td>2</td>\n",
              "      <td>120.000000</td>\n",
              "      <td>0.000000</td>\n",
              "      <td>0.000000</td>\n",
              "      <td>0.000000</td>\n",
              "      <td>0.000000</td>\n",
              "      <td>0.300000</td>\n",
              "      <td>120.300000</td>\n",
              "    </tr>\n",
              "    <tr>\n",
              "      <th>9283698</th>\n",
              "      <td>2</td>\n",
              "      <td>2017-11-30 23:42:38</td>\n",
              "      <td>2017-12-01 00:24:42</td>\n",
              "      <td>1</td>\n",
              "      <td>27.380000</td>\n",
              "      <td>5</td>\n",
              "      <td>N</td>\n",
              "      <td>48</td>\n",
              "      <td>265</td>\n",
              "      <td>1</td>\n",
              "      <td>100.000000</td>\n",
              "      <td>0.000000</td>\n",
              "      <td>0.500000</td>\n",
              "      <td>12.500000</td>\n",
              "      <td>10.500000</td>\n",
              "      <td>0.300000</td>\n",
              "      <td>123.800000</td>\n",
              "    </tr>\n",
              "    <tr>\n",
              "      <th>9283925</th>\n",
              "      <td>1</td>\n",
              "      <td>2017-11-30 23:02:54</td>\n",
              "      <td>2017-11-30 23:04:08</td>\n",
              "      <td>1</td>\n",
              "      <td>0.100000</td>\n",
              "      <td>5</td>\n",
              "      <td>N</td>\n",
              "      <td>137</td>\n",
              "      <td>107</td>\n",
              "      <td>1</td>\n",
              "      <td>200.000000</td>\n",
              "      <td>0.000000</td>\n",
              "      <td>0.000000</td>\n",
              "      <td>40.000000</td>\n",
              "      <td>10.500000</td>\n",
              "      <td>0.300000</td>\n",
              "      <td>250.800000</td>\n",
              "    </tr>\n",
              "  </tbody>\n",
              "</table>\n",
              "<p>29236 rows × 17 columns</p>\n",
              "</div>"
            ],
            "text/plain": [
              "         VendorID tpep_pickup_datetime tpep_dropoff_datetime  passenger_count  \\\n",
              "159             1  2017-03-01 00:00:52   2017-03-01 00:02:00                1   \n",
              "3667            1  2017-03-10 14:21:25   2017-03-10 15:23:17                1   \n",
              "4832            2  2017-03-10 14:25:25   2017-03-10 15:23:32                1   \n",
              "4900            1  2017-03-10 14:25:40   2017-03-10 14:25:40                0   \n",
              "5186            2  2017-03-10 14:26:39   2017-03-10 15:18:11                1   \n",
              "...           ...                  ...                   ...              ...   \n",
              "9279063         1  2017-11-30 23:11:50   2017-11-30 23:58:55                1   \n",
              "9282821         1  2017-11-30 23:04:07   2017-12-01 00:22:47                1   \n",
              "9283598         1  2017-11-30 23:29:32   2017-11-30 23:59:02                2   \n",
              "9283698         2  2017-11-30 23:42:38   2017-12-01 00:24:42                1   \n",
              "9283925         1  2017-11-30 23:02:54   2017-11-30 23:04:08                1   \n",
              "\n",
              "         trip_distance  RatecodeID store_and_fwd_flag  PULocationID  \\\n",
              "159           0.100000           5                  N           265   \n",
              "3667         37.600000           3                  N           132   \n",
              "4832         27.910000           5                  N           194   \n",
              "4900          0.000000          99                  N           264   \n",
              "5186         21.460000           3                  N           161   \n",
              "...                ...         ...                ...           ...   \n",
              "9279063      25.900000           5                  N           132   \n",
              "9282821      49.000000           5                  N           132   \n",
              "9283598      29.700000           5                  N           265   \n",
              "9283698      27.380000           5                  N            48   \n",
              "9283925       0.100000           5                  N           137   \n",
              "\n",
              "         DOLocationID  payment_type  fare_amount    extra  mta_tax  \\\n",
              "159               265             1   110.000000 0.000000 0.000000   \n",
              "3667                1             1   116.000000 0.000000 0.000000   \n",
              "4832                1             1   110.000000 0.000000 0.500000   \n",
              "4900              264             1   117.000000 0.000000 0.000000   \n",
              "5186                1             1    82.000000 0.000000 0.000000   \n",
              "...               ...           ...          ...      ...      ...   \n",
              "9279063           265             1    99.000000 0.000000 0.000000   \n",
              "9282821           265             1   150.000000 0.000000 0.000000   \n",
              "9283598           265             2   120.000000 0.000000 0.000000   \n",
              "9283698           265             1   100.000000 0.000000 0.500000   \n",
              "9283925           107             1   200.000000 0.000000 0.000000   \n",
              "\n",
              "         tip_amount  tolls_amount  improvement_surcharge  total_amount  \n",
              "159       22.050000      0.000000               0.300000    132.350000  \n",
              "3667      10.000000     26.580000               0.300000    152.880000  \n",
              "4832      20.000000     16.040000               0.300000    146.840000  \n",
              "4900       0.000000      0.000000               0.000000    117.000000  \n",
              "5186      19.880000     17.100000               0.300000    119.280000  \n",
              "...             ...           ...                    ...           ...  \n",
              "9279063   23.100000     16.260000               0.300000    138.660000  \n",
              "9282821  140.000000     11.520000               0.300000    301.820000  \n",
              "9283598    0.000000      0.000000               0.300000    120.300000  \n",
              "9283698   12.500000     10.500000               0.300000    123.800000  \n",
              "9283925   40.000000     10.500000               0.300000    250.800000  \n",
              "\n",
              "[29236 rows x 17 columns]"
            ]
          },
          "metadata": {
            "tags": []
          },
          "execution_count": 20
        }
      ]
    },
    {
      "cell_type": "code",
      "metadata": {
        "colab": {
          "base_uri": "https://localhost:8080/"
        },
        "id": "Lnb__ScwJ6eY",
        "outputId": "393beaaa-7c6d-42f2-8d79-8e52de7faaea"
      },
      "source": [
        "print(f'There were {df[df[\"total_amount\"] < price_min_threshold].shape[0] + df[df[\"total_amount\"] > price_max_threshold].shape[0]} outliers in total in terms of price.')"
      ],
      "execution_count": 21,
      "outputs": [
        {
          "output_type": "stream",
          "text": [
            "There were 55767 outliers in total in terms of price.\n"
          ],
          "name": "stdout"
        }
      ]
    },
    {
      "cell_type": "markdown",
      "metadata": {
        "id": "cMC9Wjdw99ub"
      },
      "source": [
        "#### Number of passengers (`passenger_count`)"
      ]
    },
    {
      "cell_type": "code",
      "metadata": {
        "id": "aCAmhxBKzynE",
        "colab": {
          "base_uri": "https://localhost:8080/"
        },
        "outputId": "e84c2964-92ba-4036-ef4e-011aaaa56d13"
      },
      "source": [
        "df.passenger_count.unique()"
      ],
      "execution_count": 22,
      "outputs": [
        {
          "output_type": "execute_result",
          "data": {
            "text/plain": [
              "array([  1,   2,   5,   3,   4,   6,   0,   9,   8,   7, 192])"
            ]
          },
          "metadata": {
            "tags": []
          },
          "execution_count": 22
        }
      ]
    },
    {
      "cell_type": "markdown",
      "metadata": {
        "id": "6ukAzBWN4N7P"
      },
      "source": [
        "192? Probably, input by accident by the driver. Let's look at this row."
      ]
    },
    {
      "cell_type": "code",
      "metadata": {
        "id": "-DgLZ_f33MGB",
        "colab": {
          "base_uri": "https://localhost:8080/",
          "height": 97
        },
        "outputId": "645872b2-b508-4812-9a34-b6640f586820"
      },
      "source": [
        "df[df.passenger_count == 192]"
      ],
      "execution_count": 23,
      "outputs": [
        {
          "output_type": "execute_result",
          "data": {
            "text/html": [
              "<div>\n",
              "<style scoped>\n",
              "    .dataframe tbody tr th:only-of-type {\n",
              "        vertical-align: middle;\n",
              "    }\n",
              "\n",
              "    .dataframe tbody tr th {\n",
              "        vertical-align: top;\n",
              "    }\n",
              "\n",
              "    .dataframe thead th {\n",
              "        text-align: right;\n",
              "    }\n",
              "</style>\n",
              "<table border=\"1\" class=\"dataframe\">\n",
              "  <thead>\n",
              "    <tr style=\"text-align: right;\">\n",
              "      <th></th>\n",
              "      <th>VendorID</th>\n",
              "      <th>tpep_pickup_datetime</th>\n",
              "      <th>tpep_dropoff_datetime</th>\n",
              "      <th>passenger_count</th>\n",
              "      <th>trip_distance</th>\n",
              "      <th>RatecodeID</th>\n",
              "      <th>store_and_fwd_flag</th>\n",
              "      <th>PULocationID</th>\n",
              "      <th>DOLocationID</th>\n",
              "      <th>payment_type</th>\n",
              "      <th>fare_amount</th>\n",
              "      <th>extra</th>\n",
              "      <th>mta_tax</th>\n",
              "      <th>tip_amount</th>\n",
              "      <th>tolls_amount</th>\n",
              "      <th>improvement_surcharge</th>\n",
              "      <th>total_amount</th>\n",
              "    </tr>\n",
              "  </thead>\n",
              "  <tbody>\n",
              "    <tr>\n",
              "      <th>8843697</th>\n",
              "      <td>2</td>\n",
              "      <td>2017-11-29 18:49:11</td>\n",
              "      <td>2017-11-29 18:55:47</td>\n",
              "      <td>192</td>\n",
              "      <td>1.070000</td>\n",
              "      <td>1</td>\n",
              "      <td>N</td>\n",
              "      <td>158</td>\n",
              "      <td>68</td>\n",
              "      <td>1</td>\n",
              "      <td>6.500000</td>\n",
              "      <td>1.000000</td>\n",
              "      <td>0.500000</td>\n",
              "      <td>1.240000</td>\n",
              "      <td>0.000000</td>\n",
              "      <td>0.300000</td>\n",
              "      <td>9.540000</td>\n",
              "    </tr>\n",
              "  </tbody>\n",
              "</table>\n",
              "</div>"
            ],
            "text/plain": [
              "         VendorID tpep_pickup_datetime tpep_dropoff_datetime  passenger_count  \\\n",
              "8843697         2  2017-11-29 18:49:11   2017-11-29 18:55:47              192   \n",
              "\n",
              "         trip_distance  RatecodeID store_and_fwd_flag  PULocationID  \\\n",
              "8843697       1.070000           1                  N           158   \n",
              "\n",
              "         DOLocationID  payment_type  fare_amount    extra  mta_tax  \\\n",
              "8843697            68             1     6.500000 1.000000 0.500000   \n",
              "\n",
              "         tip_amount  tolls_amount  improvement_surcharge  total_amount  \n",
              "8843697    1.240000      0.000000               0.300000      9.540000  "
            ]
          },
          "metadata": {
            "tags": []
          },
          "execution_count": 23
        }
      ]
    },
    {
      "cell_type": "code",
      "metadata": {
        "colab": {
          "base_uri": "https://localhost:8080/"
        },
        "id": "3o_3NfRU-tsw",
        "outputId": "e113369f-0261-458e-8b13-01a1fa3de7d0"
      },
      "source": [
        "passenger_min_threshold = 1 # we will remove all the rows that have less than 1 passenger\n",
        "passenger_max_threshold = 10 # will remove all the rows that have above 10\n",
        "passenger_min_threshold, passenger_max_threshold"
      ],
      "execution_count": 24,
      "outputs": [
        {
          "output_type": "execute_result",
          "data": {
            "text/plain": [
              "(1, 10)"
            ]
          },
          "metadata": {
            "tags": []
          },
          "execution_count": 24
        }
      ]
    },
    {
      "cell_type": "code",
      "metadata": {
        "colab": {
          "base_uri": "https://localhost:8080/"
        },
        "id": "f6GwSp-n-0oo",
        "outputId": "e4644154-f8bf-4e1a-febd-027255878c52"
      },
      "source": [
        "print(f'There were {df[df[\"passenger_count\"] < 1].shape[0] + df[df[\"passenger_count\"] > 9].shape[0]} outliers in terms of passenger count (below 1 or above 9). Since the number gets input by the drivers, they probably forgot.')"
      ],
      "execution_count": 25,
      "outputs": [
        {
          "output_type": "stream",
          "text": [
            "There were 51761 outliers in terms of passenger count (below 1 or above 9). Since the number gets input by the drivers, they probably forgot.\n"
          ],
          "name": "stdout"
        }
      ]
    },
    {
      "cell_type": "markdown",
      "metadata": {
        "id": "aotLRvYtHlwo"
      },
      "source": [
        "#### RatecodeID"
      ]
    },
    {
      "cell_type": "code",
      "metadata": {
        "colab": {
          "base_uri": "https://localhost:8080/"
        },
        "id": "11gBoVzdIFCG",
        "outputId": "c48c57b5-3667-4f6f-b63c-927cd930b881"
      },
      "source": [
        "print(f'There were {df[df[\"RatecodeID\"] > 6].shape[0]} rides with rate code more than 6 and {df[df[\"RatecodeID\"] < 1].shape[0]} with rate code less than 1. These have to be mistakes.')"
      ],
      "execution_count": 26,
      "outputs": [
        {
          "output_type": "stream",
          "text": [
            "There were 524 rides with rate code more than 6 and 0 with rate code less than 1. These have to be mistakes.\n"
          ],
          "name": "stdout"
        }
      ]
    },
    {
      "cell_type": "markdown",
      "metadata": {
        "id": "dEpf7bCuHqjf"
      },
      "source": [
        "#### Trip distance"
      ]
    },
    {
      "cell_type": "code",
      "metadata": {
        "colab": {
          "base_uri": "https://localhost:8080/"
        },
        "id": "TTfiE-oDHx3z",
        "outputId": "4dafe95d-b420-4b52-b4ea-a34878e66292"
      },
      "source": [
        "trip_min_threshold = df.trip_distance.quantile(0.001)\n",
        "trip_max_threshold = df.trip_distance.quantile(0.999)\n",
        "trip_min_threshold, trip_max_threshold"
      ],
      "execution_count": 27,
      "outputs": [
        {
          "output_type": "execute_result",
          "data": {
            "text/plain": [
              "(0.0, 26.0)"
            ]
          },
          "metadata": {
            "tags": []
          },
          "execution_count": 27
        }
      ]
    },
    {
      "cell_type": "code",
      "metadata": {
        "colab": {
          "base_uri": "https://localhost:8080/"
        },
        "id": "i3EdzPvCLvAb",
        "outputId": "92abfb9f-5034-4aa0-b91a-a6bb55229de7"
      },
      "source": [
        "print(f'There were {df[df[\"trip_distance\"] < trip_min_threshold].shape[0] + df[df[\"trip_distance\"] > trip_max_threshold].shape[0]} outliers in total in terms of price.')"
      ],
      "execution_count": 28,
      "outputs": [
        {
          "output_type": "stream",
          "text": [
            "There were 29150 outliers in total in terms of price.\n"
          ],
          "name": "stdout"
        }
      ]
    },
    {
      "cell_type": "markdown",
      "metadata": {
        "id": "T7HJ_UTAxhJj"
      },
      "source": [
        "#### Time spent"
      ]
    },
    {
      "cell_type": "code",
      "metadata": {
        "id": "m22n3kBrxlRL"
      },
      "source": [
        "# time_min_threshold = df.min_spent.quantile(0.001)\n",
        "# time_max_threshold = df.min_spent.quantile(0.999)\n",
        "# time_min_threshold, time_max_threshold"
      ],
      "execution_count": 29,
      "outputs": []
    },
    {
      "cell_type": "code",
      "metadata": {
        "id": "gbg6qeddx_4z"
      },
      "source": [
        "# print(f'There were {df[df[\"min_spent\"] < time_min_threshold].shape[0] + df[df[\"min_spent\"] > time_max_threshold].shape[0]} outliers in total in terms of time spent in a ride.')"
      ],
      "execution_count": 30,
      "outputs": []
    },
    {
      "cell_type": "markdown",
      "metadata": {
        "id": "YJai78hWL_4n"
      },
      "source": [
        "#### Summary"
      ]
    },
    {
      "cell_type": "code",
      "metadata": {
        "colab": {
          "base_uri": "https://localhost:8080/"
        },
        "id": "XmZ7lfEfMDrn",
        "outputId": "e366086a-c0e7-4ec9-fa0c-7eb819b68c11"
      },
      "source": [
        "print(f'''\n",
        "There were...\\n\n",
        "{df[df[\"passenger_count\"] < 1].shape[0] + df[df[\"passenger_count\"] > 9].shape[0]} outliers in terms of passenger count (below 1 or above 9). Since the number gets input by the drivers which explains the mistakes.\n",
        "{df[df[\"total_amount\"] < price_min_threshold].shape[0] + df[df[\"total_amount\"] > price_max_threshold].shape[0]} outliers in terms of price.\n",
        "{df[df[\"RatecodeID\"] > 6].shape[0]} rides with rate code more than 6 and {df[df[\"RatecodeID\"] < 1].shape[0]} with rate code less than 1. These have to be mistakes.\n",
        "{df[df[\"trip_distance\"] < trip_min_threshold].shape[0] + df[df[\"trip_distance\"] > trip_max_threshold].shape[0]} outliers in terms of trip distance.\\n\n",
        "In total up to {df[df[\"passenger_count\"] < 1].shape[0] + df[df[\"passenger_count\"] > 9].shape[0] +\n",
        "                df[df[\"total_amount\"] < price_min_threshold].shape[0] + df[df[\"total_amount\"] > price_max_threshold].shape[0] + \n",
        "                df[df[\"RatecodeID\"] > 6].shape[0] + df[df[\"RatecodeID\"] < 1].shape[0] + \n",
        "                df[df[\"trip_distance\"] < trip_min_threshold].shape[0] + df[df[\"trip_distance\"] > trip_max_threshold].shape[0]} outliers in the data out of {df.shape[0]} samples.      \n",
        "''')"
      ],
      "execution_count": 32,
      "outputs": [
        {
          "output_type": "stream",
          "text": [
            "\n",
            "There were...\n",
            "\n",
            "51761 outliers in terms of passenger count (below 1 or above 9). Since the number gets input by the drivers which explains the mistakes.\n",
            "55767 outliers in terms of price.\n",
            "524 rides with rate code more than 6 and 0 with rate code less than 1. These have to be mistakes.\n",
            "29150 outliers in terms of trip distance.\n",
            "\n",
            "In total up to 137202 outliers in the data out of 29236424 samples.      \n",
            "\n"
          ],
          "name": "stdout"
        }
      ]
    },
    {
      "cell_type": "markdown",
      "metadata": {
        "id": "Ndx8kK6j1nAB"
      },
      "source": [
        "## Preprocessing & removing the outliers"
      ]
    },
    {
      "cell_type": "markdown",
      "metadata": {
        "id": "sbehxgtY1qfZ"
      },
      "source": [
        "We know now what steps to perform to clean the data. Since the data is too large and the machine crashes while preprocessing the whole file at once, we will need to preprocess it in chunks. [Guide article](https://towardsdatascience.com/why-and-how-to-use-pandas-with-large-data-9594dda2ea4c)."
      ]
    },
    {
      "cell_type": "markdown",
      "metadata": {
        "id": "MRp2kHuJExbB"
      },
      "source": [
        "Two steps:\n",
        " \n",
        "1. Feature engineering `min_spent` and `dayhour`\n",
        "2. Remove the outliers\n",
        "3. Change the datatypes to reduce memory load:\n",
        "- `RateCodeID` only takes values from 1 to 6 - convert to `uint8`\n",
        "- `Payment_type` only takes values from 1 to 6 - convert to `uint8`\n",
        "- `VendorID` only takes values 1 or 2 - convert to `uint8`\n",
        "- `Passenger_count` only takes values from 1 to 9 - convert to `uint8`\n",
        "- `tpep_pickup_datetime` and `tpep_dropoff_datetime` are dates - convert to `datetime64[ns, US/Eastern]`"
      ]
    },
    {
      "cell_type": "code",
      "metadata": {
        "id": "QDqfmGLU6-5w"
      },
      "source": [
        "# first, save the whole file\n",
        "if not os.path.exists('taxi_test/taxi_full_data.csv') :\n",
        "  df.to_csv('taxi_test/taxi_full_data.csv', index=False)"
      ],
      "execution_count": 33,
      "outputs": []
    },
    {
      "cell_type": "code",
      "metadata": {
        "id": "EZm79nOb3rNY"
      },
      "source": [
        "# copy from drive to local machine for faster loading\n",
        "# if not os.path.exists('taxi_test/taxi_full_data.csv') :\n",
        "#   !cp \"drive/My Drive/fastai/taxi_test/taxi_full_data.csv\" 'taxi_test'"
      ],
      "execution_count": null,
      "outputs": []
    },
    {
      "cell_type": "code",
      "metadata": {
        "id": "NFAx-CZuN0Ks"
      },
      "source": [
        "# load the full data in chunks of 1,000,000 samples\n",
        "df = pd.read_csv('taxi_test/taxi_full_data.csv', low_memory=True, chunksize=1000000)"
      ],
      "execution_count": 4,
      "outputs": []
    },
    {
      "cell_type": "code",
      "metadata": {
        "id": "KToQGTlA1fec"
      },
      "source": [
        "# we will apply this function to round the time in hours to the nearest hour\n",
        "def round_hours(n) : return math.floor(n + 0.5)\n",
        "\n",
        "# preprocessing using the parameters found in the raw data\n",
        "def preprocess_chunks(df) :\n",
        "\n",
        "  # change the data types to reduce memory load\n",
        "  df[['passenger_count', 'RatecodeID', 'payment_type']] = df[['passenger_count', 'RatecodeID', 'payment_type']].astype('int8')\n",
        "  df[['tpep_pickup_datetime', 'tpep_dropoff_datetime']] = df[['tpep_pickup_datetime', 'tpep_dropoff_datetime']].astype('datetime64[ns]')\n",
        "  df[['VendorID', 'PULocationID', 'DOLocationID', 'store_and_fwd_flag']] = df[['VendorID', 'PULocationID', 'DOLocationID', 'store_and_fwd_flag']].astype('category')\n",
        "\n",
        "  # remove duplicate rows\n",
        "  df.drop_duplicates()\n",
        "\n",
        "  # feature engineering\n",
        "  df.insert(3, \"min_spent\", (df['tpep_dropoff_datetime'] - df['tpep_pickup_datetime']).astype('timedelta64[m]').tolist(),\n",
        "            allow_duplicates=True) # min_spent column\n",
        "  df.insert(3, \"time_hour\", df.tpep_dropoff_datetime.tolist(), allow_duplicates=True)\n",
        "  df['time_hour'] = df['time_hour'].dt.hour + df['time_hour'].dt.minute/60\n",
        "  df['time_hour'] = df['time_hour'].apply(round_hours)\n",
        "  df['min_spent'] = df['min_spent'].astype('int16')\n",
        "  df['time_hour'] = df['time_hour'].astype('int8')\n",
        "\n",
        "  # remove the outliers\n",
        "  df = df[(df['total_amount'] > 3.3) & (df['total_amount'] < 114.46)] # in the price\n",
        "  df = df[(df['passenger_count'] < 10) & (df['passenger_count'] >= 1)] # in passenger count\n",
        "  df = df[(df[\"RatecodeID\"] <= 6) & (df[\"RatecodeID\"] >= 1)] # remove mistakes in rate codes\n",
        "  df = df[(df['trip_distance'] > 0.0) & (df['trip_distance'] < 26.0)] # remove outliers in the trip distance\n",
        "  df = df[(df['min_spent'] > 0.0) & (df['min_spent'] < 1419.0)] # remove outliers in the trip distance\n",
        "\n",
        "  # replace 24 hours with 0 to remove duplicate values\n",
        "  df.loc[(df['time_hour'] == 24),'time_hour'] = 0\n",
        "  return df"
      ],
      "execution_count": 5,
      "outputs": []
    },
    {
      "cell_type": "markdown",
      "metadata": {
        "id": "nNC4qHYnjXBf"
      },
      "source": [
        "Perform a test with a subset of data. Comment the cell below out to process the whole data."
      ]
    },
    {
      "cell_type": "code",
      "metadata": {
        "id": "V8bFInb7OSwe"
      },
      "source": [
        "# df = df.sample(n=100000, random_state=41)"
      ],
      "execution_count": null,
      "outputs": []
    },
    {
      "cell_type": "markdown",
      "metadata": {
        "id": "eO5Ng2Y2jTLB"
      },
      "source": [
        "Process the whole data in chunks"
      ]
    },
    {
      "cell_type": "code",
      "metadata": {
        "id": "hQFSjHF2Oo4Z"
      },
      "source": [
        "chunk_list = []\n",
        "for chunk in df:  \n",
        "  df_new = preprocess_chunks(chunk)\n",
        "  chunk_list.append(df_new)\n",
        "df = pd.concat(chunk_list)"
      ],
      "execution_count": 6,
      "outputs": []
    },
    {
      "cell_type": "code",
      "metadata": {
        "id": "Qf_730pSEiNn"
      },
      "source": [
        "# save the preprocessed file in drive for later reusage\n",
        "# if not os.path.exists('drive/My Drive/fastai/taxi_test/taxi_preprocessed.csv') :\n",
        "#   df.to_csv('drive/My Drive/fastai/taxi_test/taxi_preprocessed.csv', index=False)"
      ],
      "execution_count": null,
      "outputs": []
    },
    {
      "cell_type": "code",
      "metadata": {
        "id": "Ah9oyOQ3O_i-",
        "colab": {
          "base_uri": "https://localhost:8080/",
          "height": 304
        },
        "outputId": "6b8b31a7-b217-4aca-b25d-690abfbd75d7"
      },
      "source": [
        "df.describe()"
      ],
      "execution_count": 7,
      "outputs": [
        {
          "output_type": "execute_result",
          "data": {
            "text/html": [
              "<div>\n",
              "<style scoped>\n",
              "    .dataframe tbody tr th:only-of-type {\n",
              "        vertical-align: middle;\n",
              "    }\n",
              "\n",
              "    .dataframe tbody tr th {\n",
              "        vertical-align: top;\n",
              "    }\n",
              "\n",
              "    .dataframe thead th {\n",
              "        text-align: right;\n",
              "    }\n",
              "</style>\n",
              "<table border=\"1\" class=\"dataframe\">\n",
              "  <thead>\n",
              "    <tr style=\"text-align: right;\">\n",
              "      <th></th>\n",
              "      <th>time_hour</th>\n",
              "      <th>min_spent</th>\n",
              "      <th>passenger_count</th>\n",
              "      <th>trip_distance</th>\n",
              "      <th>RatecodeID</th>\n",
              "      <th>PULocationID</th>\n",
              "      <th>DOLocationID</th>\n",
              "      <th>payment_type</th>\n",
              "      <th>fare_amount</th>\n",
              "      <th>extra</th>\n",
              "      <th>mta_tax</th>\n",
              "      <th>tip_amount</th>\n",
              "      <th>tolls_amount</th>\n",
              "      <th>improvement_surcharge</th>\n",
              "      <th>total_amount</th>\n",
              "    </tr>\n",
              "  </thead>\n",
              "  <tbody>\n",
              "    <tr>\n",
              "      <th>count</th>\n",
              "      <td>28812526.000000</td>\n",
              "      <td>28812526.000000</td>\n",
              "      <td>28812526.000000</td>\n",
              "      <td>28812526.000000</td>\n",
              "      <td>28812526.000000</td>\n",
              "      <td>28812526.000000</td>\n",
              "      <td>28812526.000000</td>\n",
              "      <td>28812526.000000</td>\n",
              "      <td>28812526.000000</td>\n",
              "      <td>28812526.000000</td>\n",
              "      <td>28812526.000000</td>\n",
              "      <td>28812526.000000</td>\n",
              "      <td>28812526.000000</td>\n",
              "      <td>28812526.000000</td>\n",
              "      <td>28812526.000000</td>\n",
              "    </tr>\n",
              "    <tr>\n",
              "      <th>mean</th>\n",
              "      <td>14.226160</td>\n",
              "      <td>15.045092</td>\n",
              "      <td>1.622401</td>\n",
              "      <td>2.907827</td>\n",
              "      <td>1.029236</td>\n",
              "      <td>163.152304</td>\n",
              "      <td>161.081525</td>\n",
              "      <td>1.323972</td>\n",
              "      <td>12.893715</td>\n",
              "      <td>0.334541</td>\n",
              "      <td>0.498824</td>\n",
              "      <td>1.852645</td>\n",
              "      <td>0.313160</td>\n",
              "      <td>0.299983</td>\n",
              "      <td>16.196735</td>\n",
              "    </tr>\n",
              "    <tr>\n",
              "      <th>std</th>\n",
              "      <td>6.362527</td>\n",
              "      <td>34.822523</td>\n",
              "      <td>1.261267</td>\n",
              "      <td>3.594387</td>\n",
              "      <td>0.210846</td>\n",
              "      <td>66.552030</td>\n",
              "      <td>70.372665</td>\n",
              "      <td>0.483214</td>\n",
              "      <td>10.443147</td>\n",
              "      <td>0.454093</td>\n",
              "      <td>0.028185</td>\n",
              "      <td>2.414057</td>\n",
              "      <td>1.419857</td>\n",
              "      <td>0.002236</td>\n",
              "      <td>13.064783</td>\n",
              "    </tr>\n",
              "    <tr>\n",
              "      <th>min</th>\n",
              "      <td>0.000000</td>\n",
              "      <td>1.000000</td>\n",
              "      <td>1.000000</td>\n",
              "      <td>0.010000</td>\n",
              "      <td>1.000000</td>\n",
              "      <td>1.000000</td>\n",
              "      <td>1.000000</td>\n",
              "      <td>1.000000</td>\n",
              "      <td>0.000000</td>\n",
              "      <td>-42.500000</td>\n",
              "      <td>0.000000</td>\n",
              "      <td>-0.080000</td>\n",
              "      <td>-5.760000</td>\n",
              "      <td>0.000000</td>\n",
              "      <td>3.350000</td>\n",
              "    </tr>\n",
              "    <tr>\n",
              "      <th>25%</th>\n",
              "      <td>10.000000</td>\n",
              "      <td>6.000000</td>\n",
              "      <td>1.000000</td>\n",
              "      <td>1.000000</td>\n",
              "      <td>1.000000</td>\n",
              "      <td>114.000000</td>\n",
              "      <td>107.000000</td>\n",
              "      <td>1.000000</td>\n",
              "      <td>6.500000</td>\n",
              "      <td>0.000000</td>\n",
              "      <td>0.500000</td>\n",
              "      <td>0.000000</td>\n",
              "      <td>0.000000</td>\n",
              "      <td>0.300000</td>\n",
              "      <td>8.750000</td>\n",
              "    </tr>\n",
              "    <tr>\n",
              "      <th>50%</th>\n",
              "      <td>15.000000</td>\n",
              "      <td>11.000000</td>\n",
              "      <td>1.000000</td>\n",
              "      <td>1.630000</td>\n",
              "      <td>1.000000</td>\n",
              "      <td>162.000000</td>\n",
              "      <td>162.000000</td>\n",
              "      <td>1.000000</td>\n",
              "      <td>9.500000</td>\n",
              "      <td>0.000000</td>\n",
              "      <td>0.500000</td>\n",
              "      <td>1.400000</td>\n",
              "      <td>0.000000</td>\n",
              "      <td>0.300000</td>\n",
              "      <td>11.800000</td>\n",
              "    </tr>\n",
              "    <tr>\n",
              "      <th>75%</th>\n",
              "      <td>20.000000</td>\n",
              "      <td>18.000000</td>\n",
              "      <td>2.000000</td>\n",
              "      <td>3.030000</td>\n",
              "      <td>1.000000</td>\n",
              "      <td>233.000000</td>\n",
              "      <td>233.000000</td>\n",
              "      <td>2.000000</td>\n",
              "      <td>14.500000</td>\n",
              "      <td>0.500000</td>\n",
              "      <td>0.500000</td>\n",
              "      <td>2.460000</td>\n",
              "      <td>0.000000</td>\n",
              "      <td>0.300000</td>\n",
              "      <td>17.800000</td>\n",
              "    </tr>\n",
              "    <tr>\n",
              "      <th>max</th>\n",
              "      <td>24.000000</td>\n",
              "      <td>1418.000000</td>\n",
              "      <td>9.000000</td>\n",
              "      <td>25.990000</td>\n",
              "      <td>6.000000</td>\n",
              "      <td>265.000000</td>\n",
              "      <td>265.000000</td>\n",
              "      <td>5.000000</td>\n",
              "      <td>113.000000</td>\n",
              "      <td>69.800000</td>\n",
              "      <td>43.800000</td>\n",
              "      <td>112.000000</td>\n",
              "      <td>102.400000</td>\n",
              "      <td>0.300000</td>\n",
              "      <td>114.450000</td>\n",
              "    </tr>\n",
              "  </tbody>\n",
              "</table>\n",
              "</div>"
            ],
            "text/plain": [
              "            time_hour       min_spent  passenger_count   trip_distance  \\\n",
              "count 28812526.000000 28812526.000000  28812526.000000 28812526.000000   \n",
              "mean        14.226160       15.045092         1.622401        2.907827   \n",
              "std          6.362527       34.822523         1.261267        3.594387   \n",
              "min          0.000000        1.000000         1.000000        0.010000   \n",
              "25%         10.000000        6.000000         1.000000        1.000000   \n",
              "50%         15.000000       11.000000         1.000000        1.630000   \n",
              "75%         20.000000       18.000000         2.000000        3.030000   \n",
              "max         24.000000     1418.000000         9.000000       25.990000   \n",
              "\n",
              "           RatecodeID    PULocationID    DOLocationID    payment_type  \\\n",
              "count 28812526.000000 28812526.000000 28812526.000000 28812526.000000   \n",
              "mean         1.029236      163.152304      161.081525        1.323972   \n",
              "std          0.210846       66.552030       70.372665        0.483214   \n",
              "min          1.000000        1.000000        1.000000        1.000000   \n",
              "25%          1.000000      114.000000      107.000000        1.000000   \n",
              "50%          1.000000      162.000000      162.000000        1.000000   \n",
              "75%          1.000000      233.000000      233.000000        2.000000   \n",
              "max          6.000000      265.000000      265.000000        5.000000   \n",
              "\n",
              "          fare_amount           extra         mta_tax      tip_amount  \\\n",
              "count 28812526.000000 28812526.000000 28812526.000000 28812526.000000   \n",
              "mean        12.893715        0.334541        0.498824        1.852645   \n",
              "std         10.443147        0.454093        0.028185        2.414057   \n",
              "min          0.000000      -42.500000        0.000000       -0.080000   \n",
              "25%          6.500000        0.000000        0.500000        0.000000   \n",
              "50%          9.500000        0.000000        0.500000        1.400000   \n",
              "75%         14.500000        0.500000        0.500000        2.460000   \n",
              "max        113.000000       69.800000       43.800000      112.000000   \n",
              "\n",
              "         tolls_amount  improvement_surcharge    total_amount  \n",
              "count 28812526.000000        28812526.000000 28812526.000000  \n",
              "mean         0.313160               0.299983       16.196735  \n",
              "std          1.419857               0.002236       13.064783  \n",
              "min         -5.760000               0.000000        3.350000  \n",
              "25%          0.000000               0.300000        8.750000  \n",
              "50%          0.000000               0.300000       11.800000  \n",
              "75%          0.000000               0.300000       17.800000  \n",
              "max        102.400000               0.300000      114.450000  "
            ]
          },
          "metadata": {
            "tags": []
          },
          "execution_count": 7
        }
      ]
    },
    {
      "cell_type": "code",
      "metadata": {
        "id": "FY0HFtVjbikH",
        "colab": {
          "base_uri": "https://localhost:8080/"
        },
        "outputId": "bb5aa7a7-7d2d-4455-cbc1-a3604a4d6662"
      },
      "source": [
        "df.info() # check for the file size and compare to after preprocessing"
      ],
      "execution_count": 8,
      "outputs": [
        {
          "output_type": "stream",
          "text": [
            "<class 'pandas.core.frame.DataFrame'>\n",
            "Int64Index: 28812526 entries, 0 to 29236423\n",
            "Data columns (total 19 columns):\n",
            " #   Column                 Dtype         \n",
            "---  ------                 -----         \n",
            " 0   VendorID               category      \n",
            " 1   tpep_pickup_datetime   datetime64[ns]\n",
            " 2   tpep_dropoff_datetime  datetime64[ns]\n",
            " 3   time_hour              int8          \n",
            " 4   min_spent              int16         \n",
            " 5   passenger_count        int8          \n",
            " 6   trip_distance          float64       \n",
            " 7   RatecodeID             int8          \n",
            " 8   store_and_fwd_flag     category      \n",
            " 9   PULocationID           int64         \n",
            " 10  DOLocationID           int64         \n",
            " 11  payment_type           int8          \n",
            " 12  fare_amount            float64       \n",
            " 13  extra                  float64       \n",
            " 14  mta_tax                float64       \n",
            " 15  tip_amount             float64       \n",
            " 16  tolls_amount           float64       \n",
            " 17  improvement_surcharge  float64       \n",
            " 18  total_amount           float64       \n",
            "dtypes: category(2), datetime64[ns](2), float64(8), int16(1), int64(2), int8(4)\n",
            "memory usage: 3.0 GB\n"
          ],
          "name": "stdout"
        }
      ]
    },
    {
      "cell_type": "markdown",
      "metadata": {
        "id": "5oF-4XHDnq7W"
      },
      "source": [
        "# Basic EDA"
      ]
    },
    {
      "cell_type": "markdown",
      "metadata": {
        "id": "SKU-2LPrn3Hn"
      },
      "source": [
        "### Correlation matrix and heat map"
      ]
    },
    {
      "cell_type": "markdown",
      "metadata": {
        "id": "-SOR-qz0usW0"
      },
      "source": [
        "Obtain the correlation coefficient matrix"
      ]
    },
    {
      "cell_type": "code",
      "metadata": {
        "colab": {
          "base_uri": "https://localhost:8080/",
          "height": 427
        },
        "id": "P7R7GmerhjPF",
        "outputId": "6e320f25-e689-43e3-8a4d-26f906d34939"
      },
      "source": [
        "corr = df.corr()\n",
        "corr"
      ],
      "execution_count": 114,
      "outputs": [
        {
          "output_type": "execute_result",
          "data": {
            "text/html": [
              "<div>\n",
              "<style scoped>\n",
              "    .dataframe tbody tr th:only-of-type {\n",
              "        vertical-align: middle;\n",
              "    }\n",
              "\n",
              "    .dataframe tbody tr th {\n",
              "        vertical-align: top;\n",
              "    }\n",
              "\n",
              "    .dataframe thead th {\n",
              "        text-align: right;\n",
              "    }\n",
              "</style>\n",
              "<table border=\"1\" class=\"dataframe\">\n",
              "  <thead>\n",
              "    <tr style=\"text-align: right;\">\n",
              "      <th></th>\n",
              "      <th>tpep_pickup_datetimeWeek</th>\n",
              "      <th>tpep_dropoff_datetimeWeek</th>\n",
              "      <th>time_hour</th>\n",
              "      <th>min_spent</th>\n",
              "      <th>passenger_count</th>\n",
              "      <th>trip_distance</th>\n",
              "      <th>RatecodeID</th>\n",
              "      <th>PULocationID</th>\n",
              "      <th>...</th>\n",
              "      <th>tpep_dropoff_datetimeDayofweek</th>\n",
              "      <th>tpep_dropoff_datetimeDayofyear</th>\n",
              "      <th>tpep_dropoff_datetimeIs_month_end</th>\n",
              "      <th>tpep_dropoff_datetimeIs_month_start</th>\n",
              "      <th>tpep_dropoff_datetimeIs_quarter_end</th>\n",
              "      <th>tpep_dropoff_datetimeIs_quarter_start</th>\n",
              "      <th>tpep_dropoff_datetimeIs_year_end</th>\n",
              "      <th>tpep_dropoff_datetimeIs_year_start</th>\n",
              "    </tr>\n",
              "  </thead>\n",
              "  <tbody>\n",
              "    <tr>\n",
              "      <th>tpep_pickup_datetimeWeek</th>\n",
              "      <td>1.000000</td>\n",
              "      <td>0.999998</td>\n",
              "      <td>0.011236</td>\n",
              "      <td>0.012033</td>\n",
              "      <td>-0.001368</td>\n",
              "      <td>0.000028</td>\n",
              "      <td>0.000767</td>\n",
              "      <td>0.008275</td>\n",
              "      <td>...</td>\n",
              "      <td>-0.059227</td>\n",
              "      <td>0.999818</td>\n",
              "      <td>0.028553</td>\n",
              "      <td>-0.020150</td>\n",
              "      <td>-0.081117</td>\n",
              "      <td>-0.009084</td>\n",
              "      <td>-0.001757</td>\n",
              "      <td>-0.001757</td>\n",
              "    </tr>\n",
              "    <tr>\n",
              "      <th>tpep_dropoff_datetimeWeek</th>\n",
              "      <td>0.999998</td>\n",
              "      <td>1.000000</td>\n",
              "      <td>0.011125</td>\n",
              "      <td>0.012373</td>\n",
              "      <td>-0.001366</td>\n",
              "      <td>0.000099</td>\n",
              "      <td>0.000791</td>\n",
              "      <td>0.008268</td>\n",
              "      <td>...</td>\n",
              "      <td>-0.059317</td>\n",
              "      <td>0.999818</td>\n",
              "      <td>0.028542</td>\n",
              "      <td>-0.020161</td>\n",
              "      <td>-0.081125</td>\n",
              "      <td>-0.009085</td>\n",
              "      <td>-0.001757</td>\n",
              "      <td>-0.001757</td>\n",
              "    </tr>\n",
              "    <tr>\n",
              "      <th>time_hour</th>\n",
              "      <td>0.011236</td>\n",
              "      <td>0.011125</td>\n",
              "      <td>1.000000</td>\n",
              "      <td>0.003493</td>\n",
              "      <td>0.006852</td>\n",
              "      <td>-0.027554</td>\n",
              "      <td>0.001925</td>\n",
              "      <td>0.035814</td>\n",
              "      <td>...</td>\n",
              "      <td>-0.089671</td>\n",
              "      <td>0.009445</td>\n",
              "      <td>-0.001974</td>\n",
              "      <td>0.007286</td>\n",
              "      <td>-0.007136</td>\n",
              "      <td>-0.033444</td>\n",
              "      <td>-0.002097</td>\n",
              "      <td>-0.001944</td>\n",
              "    </tr>\n",
              "    <tr>\n",
              "      <th>min_spent</th>\n",
              "      <td>0.012033</td>\n",
              "      <td>0.012373</td>\n",
              "      <td>0.003493</td>\n",
              "      <td>1.000000</td>\n",
              "      <td>0.011528</td>\n",
              "      <td>0.287096</td>\n",
              "      <td>0.130618</td>\n",
              "      <td>-0.026277</td>\n",
              "      <td>...</td>\n",
              "      <td>-0.010296</td>\n",
              "      <td>0.012191</td>\n",
              "      <td>0.002765</td>\n",
              "      <td>0.002942</td>\n",
              "      <td>0.000228</td>\n",
              "      <td>0.037752</td>\n",
              "      <td>-0.000117</td>\n",
              "      <td>-0.000232</td>\n",
              "    </tr>\n",
              "    <tr>\n",
              "      <th>passenger_count</th>\n",
              "      <td>-0.001368</td>\n",
              "      <td>-0.001366</td>\n",
              "      <td>0.006852</td>\n",
              "      <td>0.011528</td>\n",
              "      <td>1.000000</td>\n",
              "      <td>0.014305</td>\n",
              "      <td>0.004789</td>\n",
              "      <td>-0.008016</td>\n",
              "      <td>...</td>\n",
              "      <td>0.023235</td>\n",
              "      <td>-0.000933</td>\n",
              "      <td>-0.001296</td>\n",
              "      <td>-0.004095</td>\n",
              "      <td>0.001343</td>\n",
              "      <td>0.000116</td>\n",
              "      <td>-0.000493</td>\n",
              "      <td>-0.000493</td>\n",
              "    </tr>\n",
              "    <tr>\n",
              "      <th>...</th>\n",
              "      <td>...</td>\n",
              "      <td>...</td>\n",
              "      <td>...</td>\n",
              "      <td>...</td>\n",
              "      <td>...</td>\n",
              "      <td>...</td>\n",
              "      <td>...</td>\n",
              "      <td>...</td>\n",
              "      <td>...</td>\n",
              "      <td>...</td>\n",
              "      <td>...</td>\n",
              "      <td>...</td>\n",
              "      <td>...</td>\n",
              "      <td>...</td>\n",
              "      <td>...</td>\n",
              "      <td>...</td>\n",
              "      <td>...</td>\n",
              "    </tr>\n",
              "    <tr>\n",
              "      <th>tpep_dropoff_datetimeIs_month_start</th>\n",
              "      <td>-0.020150</td>\n",
              "      <td>-0.020161</td>\n",
              "      <td>0.007286</td>\n",
              "      <td>0.002942</td>\n",
              "      <td>-0.004095</td>\n",
              "      <td>-0.001327</td>\n",
              "      <td>-0.002045</td>\n",
              "      <td>0.002183</td>\n",
              "      <td>...</td>\n",
              "      <td>-0.066992</td>\n",
              "      <td>-0.021438</td>\n",
              "      <td>-0.036179</td>\n",
              "      <td>1.000000</td>\n",
              "      <td>-0.029364</td>\n",
              "      <td>0.086854</td>\n",
              "      <td>-0.000191</td>\n",
              "      <td>0.005246</td>\n",
              "    </tr>\n",
              "    <tr>\n",
              "      <th>tpep_dropoff_datetimeIs_quarter_end</th>\n",
              "      <td>-0.081117</td>\n",
              "      <td>-0.081125</td>\n",
              "      <td>-0.007136</td>\n",
              "      <td>0.000228</td>\n",
              "      <td>0.001343</td>\n",
              "      <td>-0.005492</td>\n",
              "      <td>-0.001574</td>\n",
              "      <td>-0.002707</td>\n",
              "      <td>...</td>\n",
              "      <td>0.078762</td>\n",
              "      <td>-0.079700</td>\n",
              "      <td>0.811626</td>\n",
              "      <td>-0.029364</td>\n",
              "      <td>1.000000</td>\n",
              "      <td>-0.002550</td>\n",
              "      <td>0.006491</td>\n",
              "      <td>-0.000154</td>\n",
              "    </tr>\n",
              "    <tr>\n",
              "      <th>tpep_dropoff_datetimeIs_quarter_start</th>\n",
              "      <td>-0.009084</td>\n",
              "      <td>-0.009085</td>\n",
              "      <td>-0.033444</td>\n",
              "      <td>0.037752</td>\n",
              "      <td>0.000116</td>\n",
              "      <td>0.013808</td>\n",
              "      <td>0.003715</td>\n",
              "      <td>-0.002496</td>\n",
              "      <td>...</td>\n",
              "      <td>0.017152</td>\n",
              "      <td>-0.008774</td>\n",
              "      <td>-0.003142</td>\n",
              "      <td>0.086854</td>\n",
              "      <td>-0.002550</td>\n",
              "      <td>1.000000</td>\n",
              "      <td>-0.000017</td>\n",
              "      <td>0.060404</td>\n",
              "    </tr>\n",
              "    <tr>\n",
              "      <th>tpep_dropoff_datetimeIs_year_end</th>\n",
              "      <td>-0.001757</td>\n",
              "      <td>-0.001757</td>\n",
              "      <td>-0.002097</td>\n",
              "      <td>-0.000117</td>\n",
              "      <td>-0.000493</td>\n",
              "      <td>-0.000263</td>\n",
              "      <td>-0.000139</td>\n",
              "      <td>-0.001130</td>\n",
              "      <td>...</td>\n",
              "      <td>-0.000546</td>\n",
              "      <td>0.001823</td>\n",
              "      <td>0.005269</td>\n",
              "      <td>-0.000191</td>\n",
              "      <td>0.006491</td>\n",
              "      <td>-0.000017</td>\n",
              "      <td>1.000000</td>\n",
              "      <td>-0.000001</td>\n",
              "    </tr>\n",
              "    <tr>\n",
              "      <th>tpep_dropoff_datetimeIs_year_start</th>\n",
              "      <td>-0.001757</td>\n",
              "      <td>-0.001757</td>\n",
              "      <td>-0.001944</td>\n",
              "      <td>-0.000232</td>\n",
              "      <td>-0.000493</td>\n",
              "      <td>-0.000419</td>\n",
              "      <td>-0.000139</td>\n",
              "      <td>-0.000334</td>\n",
              "      <td>...</td>\n",
              "      <td>-0.000017</td>\n",
              "      <td>-0.001799</td>\n",
              "      <td>-0.000190</td>\n",
              "      <td>0.005246</td>\n",
              "      <td>-0.000154</td>\n",
              "      <td>0.060404</td>\n",
              "      <td>-0.000001</td>\n",
              "      <td>1.000000</td>\n",
              "    </tr>\n",
              "  </tbody>\n",
              "</table>\n",
              "<p>39 rows × 39 columns</p>\n",
              "</div>"
            ],
            "text/plain": [
              "                                       tpep_pickup_datetimeWeek  \\\n",
              "tpep_pickup_datetimeWeek                               1.000000   \n",
              "tpep_dropoff_datetimeWeek                              0.999998   \n",
              "time_hour                                              0.011236   \n",
              "min_spent                                              0.012033   \n",
              "passenger_count                                       -0.001368   \n",
              "...                                                         ...   \n",
              "tpep_dropoff_datetimeIs_month_start                   -0.020150   \n",
              "tpep_dropoff_datetimeIs_quarter_end                   -0.081117   \n",
              "tpep_dropoff_datetimeIs_quarter_start                 -0.009084   \n",
              "tpep_dropoff_datetimeIs_year_end                      -0.001757   \n",
              "tpep_dropoff_datetimeIs_year_start                    -0.001757   \n",
              "\n",
              "                                       tpep_dropoff_datetimeWeek  time_hour  \\\n",
              "tpep_pickup_datetimeWeek                                0.999998   0.011236   \n",
              "tpep_dropoff_datetimeWeek                               1.000000   0.011125   \n",
              "time_hour                                               0.011125   1.000000   \n",
              "min_spent                                               0.012373   0.003493   \n",
              "passenger_count                                        -0.001366   0.006852   \n",
              "...                                                          ...        ...   \n",
              "tpep_dropoff_datetimeIs_month_start                    -0.020161   0.007286   \n",
              "tpep_dropoff_datetimeIs_quarter_end                    -0.081125  -0.007136   \n",
              "tpep_dropoff_datetimeIs_quarter_start                  -0.009085  -0.033444   \n",
              "tpep_dropoff_datetimeIs_year_end                       -0.001757  -0.002097   \n",
              "tpep_dropoff_datetimeIs_year_start                     -0.001757  -0.001944   \n",
              "\n",
              "                                       min_spent  passenger_count  \\\n",
              "tpep_pickup_datetimeWeek                0.012033        -0.001368   \n",
              "tpep_dropoff_datetimeWeek               0.012373        -0.001366   \n",
              "time_hour                               0.003493         0.006852   \n",
              "min_spent                               1.000000         0.011528   \n",
              "passenger_count                         0.011528         1.000000   \n",
              "...                                          ...              ...   \n",
              "tpep_dropoff_datetimeIs_month_start     0.002942        -0.004095   \n",
              "tpep_dropoff_datetimeIs_quarter_end     0.000228         0.001343   \n",
              "tpep_dropoff_datetimeIs_quarter_start   0.037752         0.000116   \n",
              "tpep_dropoff_datetimeIs_year_end       -0.000117        -0.000493   \n",
              "tpep_dropoff_datetimeIs_year_start     -0.000232        -0.000493   \n",
              "\n",
              "                                       trip_distance  RatecodeID  \\\n",
              "tpep_pickup_datetimeWeek                    0.000028    0.000767   \n",
              "tpep_dropoff_datetimeWeek                   0.000099    0.000791   \n",
              "time_hour                                  -0.027554    0.001925   \n",
              "min_spent                                   0.287096    0.130618   \n",
              "passenger_count                             0.014305    0.004789   \n",
              "...                                              ...         ...   \n",
              "tpep_dropoff_datetimeIs_month_start        -0.001327   -0.002045   \n",
              "tpep_dropoff_datetimeIs_quarter_end        -0.005492   -0.001574   \n",
              "tpep_dropoff_datetimeIs_quarter_start       0.013808    0.003715   \n",
              "tpep_dropoff_datetimeIs_year_end           -0.000263   -0.000139   \n",
              "tpep_dropoff_datetimeIs_year_start         -0.000419   -0.000139   \n",
              "\n",
              "                                       PULocationID  ...  \\\n",
              "tpep_pickup_datetimeWeek                   0.008275  ...   \n",
              "tpep_dropoff_datetimeWeek                  0.008268  ...   \n",
              "time_hour                                  0.035814  ...   \n",
              "min_spent                                 -0.026277  ...   \n",
              "passenger_count                           -0.008016  ...   \n",
              "...                                             ...  ...   \n",
              "tpep_dropoff_datetimeIs_month_start        0.002183  ...   \n",
              "tpep_dropoff_datetimeIs_quarter_end       -0.002707  ...   \n",
              "tpep_dropoff_datetimeIs_quarter_start     -0.002496  ...   \n",
              "tpep_dropoff_datetimeIs_year_end          -0.001130  ...   \n",
              "tpep_dropoff_datetimeIs_year_start        -0.000334  ...   \n",
              "\n",
              "                                       tpep_dropoff_datetimeDayofweek  \\\n",
              "tpep_pickup_datetimeWeek                                    -0.059227   \n",
              "tpep_dropoff_datetimeWeek                                   -0.059317   \n",
              "time_hour                                                   -0.089671   \n",
              "min_spent                                                   -0.010296   \n",
              "passenger_count                                              0.023235   \n",
              "...                                                               ...   \n",
              "tpep_dropoff_datetimeIs_month_start                         -0.066992   \n",
              "tpep_dropoff_datetimeIs_quarter_end                          0.078762   \n",
              "tpep_dropoff_datetimeIs_quarter_start                        0.017152   \n",
              "tpep_dropoff_datetimeIs_year_end                            -0.000546   \n",
              "tpep_dropoff_datetimeIs_year_start                          -0.000017   \n",
              "\n",
              "                                       tpep_dropoff_datetimeDayofyear  \\\n",
              "tpep_pickup_datetimeWeek                                     0.999818   \n",
              "tpep_dropoff_datetimeWeek                                    0.999818   \n",
              "time_hour                                                    0.009445   \n",
              "min_spent                                                    0.012191   \n",
              "passenger_count                                             -0.000933   \n",
              "...                                                               ...   \n",
              "tpep_dropoff_datetimeIs_month_start                         -0.021438   \n",
              "tpep_dropoff_datetimeIs_quarter_end                         -0.079700   \n",
              "tpep_dropoff_datetimeIs_quarter_start                       -0.008774   \n",
              "tpep_dropoff_datetimeIs_year_end                             0.001823   \n",
              "tpep_dropoff_datetimeIs_year_start                          -0.001799   \n",
              "\n",
              "                                       tpep_dropoff_datetimeIs_month_end  \\\n",
              "tpep_pickup_datetimeWeek                                        0.028553   \n",
              "tpep_dropoff_datetimeWeek                                       0.028542   \n",
              "time_hour                                                      -0.001974   \n",
              "min_spent                                                       0.002765   \n",
              "passenger_count                                                -0.001296   \n",
              "...                                                                  ...   \n",
              "tpep_dropoff_datetimeIs_month_start                            -0.036179   \n",
              "tpep_dropoff_datetimeIs_quarter_end                             0.811626   \n",
              "tpep_dropoff_datetimeIs_quarter_start                          -0.003142   \n",
              "tpep_dropoff_datetimeIs_year_end                                0.005269   \n",
              "tpep_dropoff_datetimeIs_year_start                             -0.000190   \n",
              "\n",
              "                                       tpep_dropoff_datetimeIs_month_start  \\\n",
              "tpep_pickup_datetimeWeek                                         -0.020150   \n",
              "tpep_dropoff_datetimeWeek                                        -0.020161   \n",
              "time_hour                                                         0.007286   \n",
              "min_spent                                                         0.002942   \n",
              "passenger_count                                                  -0.004095   \n",
              "...                                                                    ...   \n",
              "tpep_dropoff_datetimeIs_month_start                               1.000000   \n",
              "tpep_dropoff_datetimeIs_quarter_end                              -0.029364   \n",
              "tpep_dropoff_datetimeIs_quarter_start                             0.086854   \n",
              "tpep_dropoff_datetimeIs_year_end                                 -0.000191   \n",
              "tpep_dropoff_datetimeIs_year_start                                0.005246   \n",
              "\n",
              "                                       tpep_dropoff_datetimeIs_quarter_end  \\\n",
              "tpep_pickup_datetimeWeek                                         -0.081117   \n",
              "tpep_dropoff_datetimeWeek                                        -0.081125   \n",
              "time_hour                                                        -0.007136   \n",
              "min_spent                                                         0.000228   \n",
              "passenger_count                                                   0.001343   \n",
              "...                                                                    ...   \n",
              "tpep_dropoff_datetimeIs_month_start                              -0.029364   \n",
              "tpep_dropoff_datetimeIs_quarter_end                               1.000000   \n",
              "tpep_dropoff_datetimeIs_quarter_start                            -0.002550   \n",
              "tpep_dropoff_datetimeIs_year_end                                  0.006491   \n",
              "tpep_dropoff_datetimeIs_year_start                               -0.000154   \n",
              "\n",
              "                                       tpep_dropoff_datetimeIs_quarter_start  \\\n",
              "tpep_pickup_datetimeWeek                                           -0.009084   \n",
              "tpep_dropoff_datetimeWeek                                          -0.009085   \n",
              "time_hour                                                          -0.033444   \n",
              "min_spent                                                           0.037752   \n",
              "passenger_count                                                     0.000116   \n",
              "...                                                                      ...   \n",
              "tpep_dropoff_datetimeIs_month_start                                 0.086854   \n",
              "tpep_dropoff_datetimeIs_quarter_end                                -0.002550   \n",
              "tpep_dropoff_datetimeIs_quarter_start                               1.000000   \n",
              "tpep_dropoff_datetimeIs_year_end                                   -0.000017   \n",
              "tpep_dropoff_datetimeIs_year_start                                  0.060404   \n",
              "\n",
              "                                       tpep_dropoff_datetimeIs_year_end  \\\n",
              "tpep_pickup_datetimeWeek                                      -0.001757   \n",
              "tpep_dropoff_datetimeWeek                                     -0.001757   \n",
              "time_hour                                                     -0.002097   \n",
              "min_spent                                                     -0.000117   \n",
              "passenger_count                                               -0.000493   \n",
              "...                                                                 ...   \n",
              "tpep_dropoff_datetimeIs_month_start                           -0.000191   \n",
              "tpep_dropoff_datetimeIs_quarter_end                            0.006491   \n",
              "tpep_dropoff_datetimeIs_quarter_start                         -0.000017   \n",
              "tpep_dropoff_datetimeIs_year_end                               1.000000   \n",
              "tpep_dropoff_datetimeIs_year_start                            -0.000001   \n",
              "\n",
              "                                       tpep_dropoff_datetimeIs_year_start  \n",
              "tpep_pickup_datetimeWeek                                        -0.001757  \n",
              "tpep_dropoff_datetimeWeek                                       -0.001757  \n",
              "time_hour                                                       -0.001944  \n",
              "min_spent                                                       -0.000232  \n",
              "passenger_count                                                 -0.000493  \n",
              "...                                                                   ...  \n",
              "tpep_dropoff_datetimeIs_month_start                              0.005246  \n",
              "tpep_dropoff_datetimeIs_quarter_end                             -0.000154  \n",
              "tpep_dropoff_datetimeIs_quarter_start                            0.060404  \n",
              "tpep_dropoff_datetimeIs_year_end                                -0.000001  \n",
              "tpep_dropoff_datetimeIs_year_start                               1.000000  \n",
              "\n",
              "[39 rows x 39 columns]"
            ]
          },
          "metadata": {
            "tags": []
          },
          "execution_count": 114
        }
      ]
    },
    {
      "cell_type": "markdown",
      "metadata": {
        "id": "u-bToRgfjXWu"
      },
      "source": [
        "Visualize the matrix"
      ]
    },
    {
      "cell_type": "code",
      "metadata": {
        "colab": {
          "base_uri": "https://localhost:8080/",
          "height": 547
        },
        "id": "WjMxxS8qj37B",
        "outputId": "f6ecb25c-16fd-4195-8b03-59222136ddd9"
      },
      "source": [
        "mask = np.zeros_like(corr) # Mask diagonal half of the heat map\n",
        "mask[np.triu_indices_from(mask)] = True\n",
        "with sns.axes_style(\"white\"):\n",
        "  f, ax = plt.subplots(figsize=(7,5))\n",
        "  ax = sns.heatmap(corr, mask=mask, vmax=1, square=True)"
      ],
      "execution_count": 117,
      "outputs": [
        {
          "output_type": "display_data",
          "data": {
            "image/png": "[encoded data removed]",
            "text/plain": [
              "<Figure size 504x360 with 2 Axes>"
            ]
          },
          "metadata": {
            "tags": []
          }
        }
      ]
    },
    {
      "cell_type": "markdown",
      "metadata": {
        "id": "f3KG-jflkdHR"
      },
      "source": [
        "# Questions to data & extracting insights"
      ]
    },
    {
      "cell_type": "markdown",
      "metadata": {
        "id": "GXZEKXdWkdHR"
      },
      "source": [
        "##### **How much % of the total revenues do trips...**\n",
        "- inside NYC\n",
        "- to airports\n",
        "- to outside of NYC **make up?** "
      ]
    },
    {
      "cell_type": "code",
      "metadata": {
        "colab": {
          "base_uri": "https://localhost:8080/"
        },
        "id": "Auyw7KNwkdHR",
        "outputId": "23f9b28a-a352-4260-844b-fd1d6b04ba21"
      },
      "source": [
        "rc_perc = round(df.groupby('RatecodeID').total_amount.sum() / df.groupby('RatecodeID').total_amount.sum().sum(), 4)\n",
        "rc_perc"
      ],
      "execution_count": null,
      "outputs": [
        {
          "output_type": "execute_result",
          "data": {
            "text/plain": [
              "RatecodeID\n",
              "1    0.8977\n",
              "2    0.0864\n",
              "3    0.0100\n",
              "4    0.0015\n",
              "5    0.0044\n",
              "6    0.0000\n",
              "Name: total_amount, dtype: float64"
            ]
          },
          "metadata": {
            "tags": []
          },
          "execution_count": 26
        }
      ]
    },
    {
      "cell_type": "code",
      "metadata": {
        "colab": {
          "base_uri": "https://localhost:8080/",
          "height": 302
        },
        "id": "c35YJEEhkdHS",
        "outputId": "afbdf0f1-b132-4bcb-df6e-88d53af2db34"
      },
      "source": [
        "rc_perc.plot()"
      ],
      "execution_count": null,
      "outputs": [
        {
          "output_type": "execute_result",
          "data": {
            "text/plain": [
              "<matplotlib.axes._subplots.AxesSubplot at 0x7fd2e5931c18>"
            ]
          },
          "metadata": {
            "tags": []
          },
          "execution_count": 14
        },
        {
          "output_type": "display_data",
          "data": {
            "image/png": "[encoded data removed]",
            "text/plain": [
              "<Figure size 432x288 with 1 Axes>"
            ]
          },
          "metadata": {
            "tags": [],
            "needs_background": "light"
          }
        }
      ]
    },
    {
      "cell_type": "markdown",
      "metadata": {
        "id": "wV5L9b4akdHS"
      },
      "source": [
        "##### **Of all rate codes, which one is the most efficient one in terms of revenues/spendings?**"
      ]
    },
    {
      "cell_type": "markdown",
      "metadata": {
        "id": "hWYB58bLkdHS"
      },
      "source": [
        "Compute the efficiency by dividing `total_amount` by `trip_distance` for each rate code:"
      ]
    },
    {
      "cell_type": "code",
      "metadata": {
        "colab": {
          "base_uri": "https://localhost:8080/"
        },
        "id": "e-bJzeBwkdHS",
        "outputId": "ab7646d5-54da-4caa-c6c8-4754e252b01a"
      },
      "source": [
        "revenues_eff = df.groupby('RatecodeID').total_amount.sum() / df.groupby('RatecodeID').trip_distance.sum()\n",
        "revenues_eff"
      ],
      "execution_count": null,
      "outputs": [
        {
          "output_type": "execute_result",
          "data": {
            "text/plain": [
              "RatecodeID\n",
              "1    5.859754\n",
              "2    3.700279\n",
              "3    5.504121\n",
              "4    4.256652\n",
              "5    8.496675\n",
              "6    3.799629\n",
              "dtype: float64"
            ]
          },
          "metadata": {
            "tags": []
          },
          "execution_count": 15
        }
      ]
    },
    {
      "cell_type": "code",
      "metadata": {
        "colab": {
          "base_uri": "https://localhost:8080/",
          "height": 302
        },
        "id": "243qPbO5lOFn",
        "outputId": "87dd4598-1262-45f6-b9dc-8e92ab87472e"
      },
      "source": [
        "revenues_eff.plot()"
      ],
      "execution_count": null,
      "outputs": [
        {
          "output_type": "execute_result",
          "data": {
            "text/plain": [
              "<matplotlib.axes._subplots.AxesSubplot at 0x7fd2e9f210b8>"
            ]
          },
          "metadata": {
            "tags": []
          },
          "execution_count": 23
        },
        {
          "output_type": "display_data",
          "data": {
            "image/png": "[encoded data removed]",
            "text/plain": [
              "<Figure size 432x288 with 1 Axes>"
            ]
          },
          "metadata": {
            "tags": [],
            "needs_background": "light"
          }
        }
      ]
    },
    {
      "cell_type": "markdown",
      "metadata": {
        "id": "2sOaQJLIkdHS"
      },
      "source": [
        "Answer: with group rides being an outlier, **negotiated fares** usually end up bringing the most bang for the buck. On contrary, trips to JFK turn out to be the least efficient. However, negotiated fares happen very seldom. Hence, **rides within the NYC** are a great trade-off between distance and revenues. \n",
        "\n",
        "***Note***: *Distance might be a bad proxy for expenses because fuel consumption tends to be much higher inside the city. A good next step would be to use the data of time and distance to predict the spendings on fuel and re-calculate the revenues/spendings relationship again.*"
      ]
    },
    {
      "cell_type": "markdown",
      "metadata": {
        "id": "5AubyJEhkdHS"
      },
      "source": [
        "##### **What is the optimal car size?**"
      ]
    },
    {
      "cell_type": "markdown",
      "metadata": {
        "id": "n-5jIl5qkdHS"
      },
      "source": [
        "Car size will depend on passengers to take in. Let's find which amount of passengers is the most usual and brings the highest revenues."
      ]
    },
    {
      "cell_type": "code",
      "metadata": {
        "colab": {
          "base_uri": "https://localhost:8080/"
        },
        "id": "vJF0pamwkdHS",
        "outputId": "5f1b152d-4c62-4389-a58b-772861adbc2e"
      },
      "source": [
        "revn_by_pass = df.groupby('passenger_count').total_amount.sum() / df.groupby('passenger_count').total_amount.sum().sum()\n",
        "revn_by_pass"
      ],
      "execution_count": null,
      "outputs": [
        {
          "output_type": "execute_result",
          "data": {
            "text/plain": [
              "passenger_count\n",
              "1    0.710324\n",
              "2    0.150266\n",
              "3    0.042033\n",
              "4    0.019640\n",
              "5    0.048215\n",
              "6    0.029508\n",
              "7    0.000005\n",
              "8    0.000005\n",
              "9    0.000003\n",
              "Name: total_amount, dtype: float64"
            ]
          },
          "metadata": {
            "tags": []
          },
          "execution_count": 18
        }
      ]
    },
    {
      "cell_type": "code",
      "metadata": {
        "colab": {
          "base_uri": "https://localhost:8080/",
          "height": 307
        },
        "id": "Fi7yTI0PkdHS",
        "outputId": "ea59cb7e-745a-4687-8401-215e51b1d818"
      },
      "source": [
        "sns.boxplot(x = 'passenger_count', y = 'total_amount', data = df)"
      ],
      "execution_count": null,
      "outputs": [
        {
          "output_type": "execute_result",
          "data": {
            "text/plain": [
              "<matplotlib.axes._subplots.AxesSubplot at 0x7fd2e54a5860>"
            ]
          },
          "metadata": {
            "tags": []
          },
          "execution_count": 19
        },
        {
          "output_type": "display_data",
          "data": {
            "image/png": "[encoded data removed]",
            "text/plain": [
              "<Figure size 432x288 with 1 Axes>"
            ]
          },
          "metadata": {
            "tags": [],
            "needs_background": "light"
          }
        }
      ]
    },
    {
      "cell_type": "code",
      "metadata": {
        "colab": {
          "base_uri": "https://localhost:8080/",
          "height": 302
        },
        "id": "iR9skPazkdHS",
        "outputId": "26b22f69-dc23-4685-b9d8-349d84292e7d"
      },
      "source": [
        "sns.boxplot(x = 'passenger_count', y = 'total_amount', data = df[df['total_amount'] < 25])"
      ],
      "execution_count": null,
      "outputs": [
        {
          "output_type": "execute_result",
          "data": {
            "text/plain": [
              "<matplotlib.axes._subplots.AxesSubplot at 0x7fd2e90190f0>"
            ]
          },
          "metadata": {
            "tags": []
          },
          "execution_count": 20
        },
        {
          "output_type": "display_data",
          "data": {
            "image/png": "[encoded data removed]",
            "text/plain": [
              "<Figure size 432x288 with 1 Axes>"
            ]
          },
          "metadata": {
            "tags": [],
            "needs_background": "light"
          }
        }
      ]
    },
    {
      "cell_type": "code",
      "metadata": {
        "colab": {
          "base_uri": "https://localhost:8080/",
          "height": 320
        },
        "id": "L5bj3SKTkdHS",
        "outputId": "c23ccf72-a37f-43cf-f344-dd6695542d87"
      },
      "source": [
        "revn_by_pass.plot.pie(y='total_amount', figsize=(5, 5))"
      ],
      "execution_count": null,
      "outputs": [
        {
          "output_type": "execute_result",
          "data": {
            "text/plain": [
              "<matplotlib.axes._subplots.AxesSubplot at 0x7fd2e9019710>"
            ]
          },
          "metadata": {
            "tags": []
          },
          "execution_count": 21
        },
        {
          "output_type": "display_data",
          "data": {
            "image/png": "[encoded data removed]",
            "text/plain": [
              "<Figure size 360x360 with 1 Axes>"
            ]
          },
          "metadata": {
            "tags": []
          }
        }
      ]
    },
    {
      "cell_type": "markdown",
      "metadata": {
        "id": "9dg1gCGLkdHS"
      },
      "source": [
        "Answer: The optimal car size is that takes in up to three people because rides with 1, 2, or 3 passengers make up over 90% of all the rides."
      ]
    },
    {
      "cell_type": "code",
      "metadata": {
        "colab": {
          "base_uri": "https://localhost:8080/"
        },
        "id": "A0I_j-MERNLJ",
        "outputId": "8789204a-8c4c-41cf-9d58-4588cd1495c4"
      },
      "source": [
        "df['total_amount'].hist(by=df['VendorID'], layout=(1,6), figsize=(16,3))"
      ],
      "execution_count": null,
      "outputs": [
        {
          "output_type": "execute_result",
          "data": {
            "text/plain": [
              "array([<matplotlib.axes._subplots.AxesSubplot object at 0x7fafccb130b8>, <matplotlib.axes._subplots.AxesSubplot object at 0x7fafcc359e80>,\n",
              "       <matplotlib.axes._subplots.AxesSubplot object at 0x7fafcca648d0>, <matplotlib.axes._subplots.AxesSubplot object at 0x7fafcc2b4ba8>,\n",
              "       <matplotlib.axes._subplots.AxesSubplot object at 0x7fafcc2e6e10>, <matplotlib.axes._subplots.AxesSubplot object at 0x7fafcc2a30b8>], dtype=object)"
            ]
          },
          "metadata": {
            "tags": []
          },
          "execution_count": 316
        },
        {
          "output_type": "display_data",
          "data": {
            "image/png": "[encoded data removed]",
            "text/plain": [
              "<Figure size 1152x216 with 6 Axes>"
            ]
          },
          "metadata": {
            "tags": [],
            "needs_background": "light"
          }
        }
      ]
    },
    {
      "cell_type": "markdown",
      "metadata": {
        "id": "mHDMzYA6SSPH"
      },
      "source": [
        "Seaborn data visualization etc."
      ]
    },
    {
      "cell_type": "markdown",
      "metadata": {
        "id": "NHvUFLR5kdHS"
      },
      "source": [
        "##### **Insight**: Rides with one passenger and inside the city seem to be the most common thing to happen."
      ]
    },
    {
      "cell_type": "markdown",
      "metadata": {
        "id": "C_nD06pIgm-W"
      },
      "source": [
        "##### **Many rides seem to have only one passenger on board. How much revenues do these rides exactly make?**"
      ]
    },
    {
      "cell_type": "code",
      "metadata": {
        "colab": {
          "base_uri": "https://localhost:8080/"
        },
        "id": "9lBZhgbPkdHS",
        "outputId": "6a51e0dd-e72c-4001-f17a-2b35ff1d841d"
      },
      "source": [
        "df[(df['passenger_count'] == 1) & (df['RatecodeID'] == 1)].total_amount.sum() / df.total_amount.sum()"
      ],
      "execution_count": 92,
      "outputs": [
        {
          "output_type": "execute_result",
          "data": {
            "text/plain": [
              "0.6427485379376562"
            ]
          },
          "metadata": {
            "tags": []
          },
          "execution_count": 92
        }
      ]
    },
    {
      "cell_type": "markdown",
      "metadata": {
        "id": "mYklkq4QkdHT"
      },
      "source": [
        "**Answer**: 64%"
      ]
    },
    {
      "cell_type": "markdown",
      "metadata": {
        "id": "pFJGd8DCnPr2"
      },
      "source": [
        "**Idea**: What if taxis could be motorbikes? They are easier to drive in the city, consume less fuel and can take 1 person which would be enough for 64% of the rides!"
      ]
    },
    {
      "cell_type": "markdown",
      "metadata": {
        "id": "iOT9J-flUXcl"
      },
      "source": [
        "##### **What are the busiest hours?**"
      ]
    },
    {
      "cell_type": "code",
      "metadata": {
        "colab": {
          "base_uri": "https://localhost:8080/",
          "height": 0
        },
        "id": "vBUGPWj7bSdl",
        "outputId": "c408d7e1-3421-444c-fd52-dabc0b93c44b"
      },
      "source": [
        "fig, ax = plt.subplots(figsize = (16,8))\n",
        "counts, bins, patches = ax.hist(df['time_hour'], facecolor='yellow', edgecolor='gray', bins=24)\n",
        "bins = np.array([math.floor(bin+0.5) for bin in bins])\n",
        "ax.set_xticks(bins)\n",
        "ax.set_ylabel('Busyness')\n",
        "ax.set_xlabel('Hour of the day')\n",
        "ax.set_yticklabels([])\n",
        "plt.show()"
      ],
      "execution_count": 91,
      "outputs": [
        {
          "output_type": "display_data",
          "data": {
            "image/png": "[encoded data removed]",
            "text/plain": [
              "<Figure size 1152x576 with 1 Axes>"
            ]
          },
          "metadata": {
            "tags": [],
            "needs_background": "light"
          }
        }
      ]
    },
    {
      "cell_type": "markdown",
      "metadata": {
        "id": "raxBHBVuf0fV"
      },
      "source": [
        "**Answer**: 6 pm until 10 pm is the busiest time. The least busiest time is from 1 am until 8 am."
      ]
    },
    {
      "cell_type": "markdown",
      "metadata": {
        "id": "pmP7p_YrSZvb"
      },
      "source": [
        "# Train the model"
      ]
    },
    {
      "cell_type": "markdown",
      "metadata": {
        "id": "aBadH5N4hLem"
      },
      "source": [
        "Here, we will develop an algorithm that can **suggest the tip amount** for taxi clients. I will go with RandomForests, supported by some nice features from `fastai` library."
      ]
    },
    {
      "cell_type": "markdown",
      "metadata": {
        "id": "B6P0sM9_r7A9"
      },
      "source": [
        "Questions to answer:\n",
        "- What influences the tip amount the most?\n",
        "- What payment method brings most tips? (Except for cash because no data available)\n",
        "- Does a particular day of the week influence the tip amount paid?\n",
        "- Do people pay more tips at a particular time of the day?\n"
      ]
    },
    {
      "cell_type": "markdown",
      "metadata": {
        "id": "MLXmMVDfZ8uO"
      },
      "source": [
        "Take a random subset of data to train the model."
      ]
    },
    {
      "cell_type": "code",
      "metadata": {
        "id": "BnCmzmypaCYy"
      },
      "source": [
        "df = df.sample(n=1000000, random_state=41) # 1,000,000 random samples"
      ],
      "execution_count": 93,
      "outputs": []
    },
    {
      "cell_type": "markdown",
      "metadata": {
        "id": "nV559Em_44Y_"
      },
      "source": [
        "#### Convert raw dates into more insightful data with fastai"
      ]
    },
    {
      "cell_type": "markdown",
      "metadata": {
        "id": "lQDa0S2e1jZl"
      },
      "source": [
        "Instead of simply datetimes, we will have new features like day of the week, if it is a month end or beginning, etc. Hopefully, it will give us some more insights into the data."
      ]
    },
    {
      "cell_type": "code",
      "metadata": {
        "id": "VG1nIDb94-Nr"
      },
      "source": [
        "df = add_datepart(df, 'tpep_pickup_datetime')"
      ],
      "execution_count": 95,
      "outputs": []
    },
    {
      "cell_type": "code",
      "metadata": {
        "id": "9TlNGkev5O-7"
      },
      "source": [
        "df = add_datepart(df, 'tpep_dropoff_datetime')"
      ],
      "execution_count": 96,
      "outputs": []
    },
    {
      "cell_type": "code",
      "metadata": {
        "id": "zWZolpNJ5aG4",
        "colab": {
          "base_uri": "https://localhost:8080/"
        },
        "outputId": "90b7a0a1-0d4f-437e-b1ec-58731bc8fcb9"
      },
      "source": [
        "df.info()"
      ],
      "execution_count": 97,
      "outputs": [
        {
          "output_type": "stream",
          "text": [
            "<class 'pandas.core.frame.DataFrame'>\n",
            "Int64Index: 1000000 entries, 4242871 to 3425809\n",
            "Data columns (total 43 columns):\n",
            " #   Column                                 Non-Null Count    Dtype   \n",
            "---  ------                                 --------------    -----   \n",
            " 0   VendorID                               1000000 non-null  category\n",
            " 1   tpep_pickup_datetimeWeek               1000000 non-null  UInt32  \n",
            " 2   tpep_dropoff_datetimeWeek              1000000 non-null  UInt32  \n",
            " 3   time_hour                              1000000 non-null  int8    \n",
            " 4   min_spent                              1000000 non-null  int16   \n",
            " 5   passenger_count                        1000000 non-null  int8    \n",
            " 6   trip_distance                          1000000 non-null  float64 \n",
            " 7   RatecodeID                             1000000 non-null  int8    \n",
            " 8   store_and_fwd_flag                     1000000 non-null  category\n",
            " 9   PULocationID                           1000000 non-null  int64   \n",
            " 10  DOLocationID                           1000000 non-null  int64   \n",
            " 11  payment_type                           1000000 non-null  int8    \n",
            " 12  fare_amount                            1000000 non-null  float64 \n",
            " 13  extra                                  1000000 non-null  float64 \n",
            " 14  mta_tax                                1000000 non-null  float64 \n",
            " 15  tip_amount                             1000000 non-null  float64 \n",
            " 16  tolls_amount                           1000000 non-null  float64 \n",
            " 17  improvement_surcharge                  1000000 non-null  float64 \n",
            " 18  total_amount                           1000000 non-null  float64 \n",
            " 19  tpep_pickup_datetimeYear               1000000 non-null  int64   \n",
            " 20  tpep_pickup_datetimeMonth              1000000 non-null  int64   \n",
            " 21  tpep_pickup_datetimeDay                1000000 non-null  int64   \n",
            " 22  tpep_pickup_datetimeDayofweek          1000000 non-null  int64   \n",
            " 23  tpep_pickup_datetimeDayofyear          1000000 non-null  int64   \n",
            " 24  tpep_pickup_datetimeIs_month_end       1000000 non-null  bool    \n",
            " 25  tpep_pickup_datetimeIs_month_start     1000000 non-null  bool    \n",
            " 26  tpep_pickup_datetimeIs_quarter_end     1000000 non-null  bool    \n",
            " 27  tpep_pickup_datetimeIs_quarter_start   1000000 non-null  bool    \n",
            " 28  tpep_pickup_datetimeIs_year_end        1000000 non-null  bool    \n",
            " 29  tpep_pickup_datetimeIs_year_start      1000000 non-null  bool    \n",
            " 30  tpep_pickup_datetimeElapsed            1000000 non-null  object  \n",
            " 31  tpep_dropoff_datetimeYear              1000000 non-null  int64   \n",
            " 32  tpep_dropoff_datetimeMonth             1000000 non-null  int64   \n",
            " 33  tpep_dropoff_datetimeDay               1000000 non-null  int64   \n",
            " 34  tpep_dropoff_datetimeDayofweek         1000000 non-null  int64   \n",
            " 35  tpep_dropoff_datetimeDayofyear         1000000 non-null  int64   \n",
            " 36  tpep_dropoff_datetimeIs_month_end      1000000 non-null  bool    \n",
            " 37  tpep_dropoff_datetimeIs_month_start    1000000 non-null  bool    \n",
            " 38  tpep_dropoff_datetimeIs_quarter_end    1000000 non-null  bool    \n",
            " 39  tpep_dropoff_datetimeIs_quarter_start  1000000 non-null  bool    \n",
            " 40  tpep_dropoff_datetimeIs_year_end       1000000 non-null  bool    \n",
            " 41  tpep_dropoff_datetimeIs_year_start     1000000 non-null  bool    \n",
            " 42  tpep_dropoff_datetimeElapsed           1000000 non-null  object  \n",
            "dtypes: UInt32(2), bool(12), category(2), float64(8), int16(1), int64(12), int8(4), object(2)\n",
            "memory usage: 204.1+ MB\n"
          ],
          "name": "stdout"
        }
      ]
    },
    {
      "cell_type": "code",
      "metadata": {
        "colab": {
          "base_uri": "https://localhost:8080/"
        },
        "id": "jYirKZ1ISwCY",
        "outputId": "441b3ca7-cf95-4dd1-b8e3-b41e75ad6907"
      },
      "source": [
        "df.columns"
      ],
      "execution_count": 98,
      "outputs": [
        {
          "output_type": "execute_result",
          "data": {
            "text/plain": [
              "Index(['VendorID', 'tpep_pickup_datetimeWeek', 'tpep_dropoff_datetimeWeek',\n",
              "       'time_hour', 'min_spent', 'passenger_count', 'trip_distance',\n",
              "       'RatecodeID', 'store_and_fwd_flag', 'PULocationID', 'DOLocationID',\n",
              "       'payment_type', 'fare_amount', 'extra', 'mta_tax', 'tip_amount',\n",
              "       'tolls_amount', 'improvement_surcharge', 'total_amount',\n",
              "       'tpep_pickup_datetimeYear', 'tpep_pickup_datetimeMonth',\n",
              "       'tpep_pickup_datetimeDay', 'tpep_pickup_datetimeDayofweek',\n",
              "       'tpep_pickup_datetimeDayofyear', 'tpep_pickup_datetimeIs_month_end',\n",
              "       'tpep_pickup_datetimeIs_month_start',\n",
              "       'tpep_pickup_datetimeIs_quarter_end',\n",
              "       'tpep_pickup_datetimeIs_quarter_start',\n",
              "       'tpep_pickup_datetimeIs_year_end', 'tpep_pickup_datetimeIs_year_start',\n",
              "       'tpep_pickup_datetimeElapsed', 'tpep_dropoff_datetimeYear',\n",
              "       'tpep_dropoff_datetimeMonth', 'tpep_dropoff_datetimeDay',\n",
              "       'tpep_dropoff_datetimeDayofweek', 'tpep_dropoff_datetimeDayofyear',\n",
              "       'tpep_dropoff_datetimeIs_month_end',\n",
              "       'tpep_dropoff_datetimeIs_month_start',\n",
              "       'tpep_dropoff_datetimeIs_quarter_end',\n",
              "       'tpep_dropoff_datetimeIs_quarter_start',\n",
              "       'tpep_dropoff_datetimeIs_year_end',\n",
              "       'tpep_dropoff_datetimeIs_year_start', 'tpep_dropoff_datetimeElapsed'],\n",
              "      dtype='object')"
            ]
          },
          "metadata": {
            "tags": []
          },
          "execution_count": 98
        }
      ]
    },
    {
      "cell_type": "code",
      "metadata": {
        "id": "zyGeMi27Swyw"
      },
      "source": [
        "dep_var = 'tip_amount'"
      ],
      "execution_count": 99,
      "outputs": []
    },
    {
      "cell_type": "code",
      "metadata": {
        "id": "l-MAzbs8SzWX"
      },
      "source": [
        "procs = [Categorify, FillMissing]"
      ],
      "execution_count": 100,
      "outputs": []
    },
    {
      "cell_type": "code",
      "metadata": {
        "id": "2TdVQ3z9S1dW"
      },
      "source": [
        "cont,cat = cont_cat_split(df, 1, dep_var=dep_var)"
      ],
      "execution_count": 101,
      "outputs": []
    },
    {
      "cell_type": "code",
      "metadata": {
        "colab": {
          "base_uri": "https://localhost:8080/"
        },
        "id": "jyTcuE-HS4Mv",
        "outputId": "af0d759c-fe21-42a3-87e1-0a67d0ad2683"
      },
      "source": [
        "cont,cat"
      ],
      "execution_count": 102,
      "outputs": [
        {
          "output_type": "execute_result",
          "data": {
            "text/plain": [
              "(['trip_distance',\n",
              "  'PULocationID',\n",
              "  'DOLocationID',\n",
              "  'fare_amount',\n",
              "  'extra',\n",
              "  'mta_tax',\n",
              "  'tolls_amount',\n",
              "  'improvement_surcharge',\n",
              "  'total_amount',\n",
              "  'tpep_pickup_datetimeYear',\n",
              "  'tpep_pickup_datetimeMonth',\n",
              "  'tpep_pickup_datetimeDay',\n",
              "  'tpep_pickup_datetimeDayofweek',\n",
              "  'tpep_pickup_datetimeDayofyear',\n",
              "  'tpep_dropoff_datetimeYear',\n",
              "  'tpep_dropoff_datetimeMonth',\n",
              "  'tpep_dropoff_datetimeDay',\n",
              "  'tpep_dropoff_datetimeDayofweek',\n",
              "  'tpep_dropoff_datetimeDayofyear'],\n",
              " ['VendorID',\n",
              "  'tpep_pickup_datetimeWeek',\n",
              "  'tpep_dropoff_datetimeWeek',\n",
              "  'time_hour',\n",
              "  'min_spent',\n",
              "  'passenger_count',\n",
              "  'RatecodeID',\n",
              "  'store_and_fwd_flag',\n",
              "  'payment_type',\n",
              "  'tpep_pickup_datetimeIs_month_end',\n",
              "  'tpep_pickup_datetimeIs_month_start',\n",
              "  'tpep_pickup_datetimeIs_quarter_end',\n",
              "  'tpep_pickup_datetimeIs_quarter_start',\n",
              "  'tpep_pickup_datetimeIs_year_end',\n",
              "  'tpep_pickup_datetimeIs_year_start',\n",
              "  'tpep_pickup_datetimeElapsed',\n",
              "  'tpep_dropoff_datetimeIs_month_end',\n",
              "  'tpep_dropoff_datetimeIs_month_start',\n",
              "  'tpep_dropoff_datetimeIs_quarter_end',\n",
              "  'tpep_dropoff_datetimeIs_quarter_start',\n",
              "  'tpep_dropoff_datetimeIs_year_end',\n",
              "  'tpep_dropoff_datetimeIs_year_start',\n",
              "  'tpep_dropoff_datetimeElapsed'])"
            ]
          },
          "metadata": {
            "tags": []
          },
          "execution_count": 102
        }
      ]
    },
    {
      "cell_type": "code",
      "metadata": {
        "id": "KlwrNjEU3Vl4"
      },
      "source": [
        "# relocate some columns that make more sense as continuous variables than categorical ones\n",
        "cont.append('passenger_count') ; cat.remove('passenger_count')\n",
        "cont.append('min_spent') ; cat.remove('min_spent')\n",
        "cont.append('time_hour') ; cat.remove('time_hour')"
      ],
      "execution_count": 104,
      "outputs": []
    },
    {
      "cell_type": "code",
      "metadata": {
        "id": "odQP5j3jTRRp"
      },
      "source": [
        "# randomly split data into training and validation sets with 80% / 20% proportion\n",
        "splits = RandomSplitter(valid_pct=0.2)(range_of(df))"
      ],
      "execution_count": 105,
      "outputs": []
    },
    {
      "cell_type": "code",
      "metadata": {
        "id": "iS0Pw5zpTUEV"
      },
      "source": [
        "to = TabularPandas(df, procs, cat, cont, y_names=dep_var, splits=splits)"
      ],
      "execution_count": 106,
      "outputs": []
    },
    {
      "cell_type": "code",
      "metadata": {
        "id": "cRRestjbUa97"
      },
      "source": [
        "xs,y = to.train.xs, to.train.y\n",
        "valid_xs,valid_y = to.valid.xs, to.valid.y"
      ],
      "execution_count": 107,
      "outputs": []
    },
    {
      "cell_type": "code",
      "metadata": {
        "colab": {
          "base_uri": "https://localhost:8080/"
        },
        "id": "tynBC_dQUccJ",
        "outputId": "e803f7f1-e5fc-46fc-9c62-c53dfa72adc0"
      },
      "source": [
        "len(xs), len(valid_xs)"
      ],
      "execution_count": 108,
      "outputs": [
        {
          "output_type": "execute_result",
          "data": {
            "text/plain": [
              "(800000, 200000)"
            ]
          },
          "metadata": {
            "tags": []
          },
          "execution_count": 108
        }
      ]
    },
    {
      "cell_type": "code",
      "metadata": {
        "colab": {
          "base_uri": "https://localhost:8080/",
          "height": 158
        },
        "id": "OVjo7r6qUeWm",
        "outputId": "321c3d9b-eec6-428d-ad11-9dffb9f0780f"
      },
      "source": [
        "to.show(3)"
      ],
      "execution_count": 109,
      "outputs": [
        {
          "output_type": "display_data",
          "data": {
            "text/html": [
              "<table border=\"1\" class=\"dataframe\">\n",
              "  <thead>\n",
              "    <tr style=\"text-align: right;\">\n",
              "      <th></th>\n",
              "      <th>VendorID</th>\n",
              "      <th>tpep_pickup_datetimeWeek</th>\n",
              "      <th>tpep_dropoff_datetimeWeek</th>\n",
              "      <th>RatecodeID</th>\n",
              "      <th>store_and_fwd_flag</th>\n",
              "      <th>payment_type</th>\n",
              "      <th>tpep_pickup_datetimeIs_month_end</th>\n",
              "      <th>tpep_pickup_datetimeIs_month_start</th>\n",
              "      <th>tpep_pickup_datetimeIs_quarter_end</th>\n",
              "      <th>tpep_pickup_datetimeIs_quarter_start</th>\n",
              "      <th>tpep_pickup_datetimeIs_year_end</th>\n",
              "      <th>tpep_pickup_datetimeIs_year_start</th>\n",
              "      <th>tpep_pickup_datetimeElapsed</th>\n",
              "      <th>tpep_dropoff_datetimeIs_month_end</th>\n",
              "      <th>tpep_dropoff_datetimeIs_month_start</th>\n",
              "      <th>tpep_dropoff_datetimeIs_quarter_end</th>\n",
              "      <th>tpep_dropoff_datetimeIs_quarter_start</th>\n",
              "      <th>tpep_dropoff_datetimeIs_year_end</th>\n",
              "      <th>tpep_dropoff_datetimeIs_year_start</th>\n",
              "      <th>tpep_dropoff_datetimeElapsed</th>\n",
              "      <th>trip_distance</th>\n",
              "      <th>PULocationID</th>\n",
              "      <th>DOLocationID</th>\n",
              "      <th>fare_amount</th>\n",
              "      <th>extra</th>\n",
              "      <th>mta_tax</th>\n",
              "      <th>tolls_amount</th>\n",
              "      <th>improvement_surcharge</th>\n",
              "      <th>total_amount</th>\n",
              "      <th>tpep_pickup_datetimeYear</th>\n",
              "      <th>tpep_pickup_datetimeMonth</th>\n",
              "      <th>tpep_pickup_datetimeDay</th>\n",
              "      <th>tpep_pickup_datetimeDayofweek</th>\n",
              "      <th>tpep_pickup_datetimeDayofyear</th>\n",
              "      <th>tpep_dropoff_datetimeYear</th>\n",
              "      <th>tpep_dropoff_datetimeMonth</th>\n",
              "      <th>tpep_dropoff_datetimeDay</th>\n",
              "      <th>tpep_dropoff_datetimeDayofweek</th>\n",
              "      <th>tpep_dropoff_datetimeDayofyear</th>\n",
              "      <th>passenger_count</th>\n",
              "      <th>min_spent</th>\n",
              "      <th>time_hour</th>\n",
              "      <th>tip_amount</th>\n",
              "    </tr>\n",
              "  </thead>\n",
              "  <tbody>\n",
              "    <tr>\n",
              "      <th>23506917</th>\n",
              "      <td>1</td>\n",
              "      <td>45</td>\n",
              "      <td>45</td>\n",
              "      <td>1</td>\n",
              "      <td>N</td>\n",
              "      <td>1</td>\n",
              "      <td>False</td>\n",
              "      <td>False</td>\n",
              "      <td>False</td>\n",
              "      <td>False</td>\n",
              "      <td>False</td>\n",
              "      <td>False</td>\n",
              "      <td>1510428981</td>\n",
              "      <td>False</td>\n",
              "      <td>False</td>\n",
              "      <td>False</td>\n",
              "      <td>False</td>\n",
              "      <td>False</td>\n",
              "      <td>False</td>\n",
              "      <td>1510429428</td>\n",
              "      <td>0.600000</td>\n",
              "      <td>107</td>\n",
              "      <td>90</td>\n",
              "      <td>6.000000</td>\n",
              "      <td>0.000000</td>\n",
              "      <td>0.500000</td>\n",
              "      <td>0.000000</td>\n",
              "      <td>0.300000</td>\n",
              "      <td>7.800000</td>\n",
              "      <td>2017</td>\n",
              "      <td>11</td>\n",
              "      <td>11</td>\n",
              "      <td>5</td>\n",
              "      <td>315</td>\n",
              "      <td>2017</td>\n",
              "      <td>11</td>\n",
              "      <td>11</td>\n",
              "      <td>5</td>\n",
              "      <td>315</td>\n",
              "      <td>1</td>\n",
              "      <td>7</td>\n",
              "      <td>20</td>\n",
              "      <td>1.000000</td>\n",
              "    </tr>\n",
              "    <tr>\n",
              "      <th>9469598</th>\n",
              "      <td>2</td>\n",
              "      <td>13</td>\n",
              "      <td>13</td>\n",
              "      <td>1</td>\n",
              "      <td>N</td>\n",
              "      <td>1</td>\n",
              "      <td>False</td>\n",
              "      <td>False</td>\n",
              "      <td>False</td>\n",
              "      <td>False</td>\n",
              "      <td>False</td>\n",
              "      <td>False</td>\n",
              "      <td>1490802106</td>\n",
              "      <td>False</td>\n",
              "      <td>False</td>\n",
              "      <td>False</td>\n",
              "      <td>False</td>\n",
              "      <td>False</td>\n",
              "      <td>False</td>\n",
              "      <td>1490803163</td>\n",
              "      <td>1.330000</td>\n",
              "      <td>186</td>\n",
              "      <td>161</td>\n",
              "      <td>12.000000</td>\n",
              "      <td>0.000000</td>\n",
              "      <td>0.500000</td>\n",
              "      <td>0.000000</td>\n",
              "      <td>0.300000</td>\n",
              "      <td>12.800000</td>\n",
              "      <td>2017</td>\n",
              "      <td>3</td>\n",
              "      <td>29</td>\n",
              "      <td>2</td>\n",
              "      <td>88</td>\n",
              "      <td>2017</td>\n",
              "      <td>3</td>\n",
              "      <td>29</td>\n",
              "      <td>2</td>\n",
              "      <td>88</td>\n",
              "      <td>1</td>\n",
              "      <td>17</td>\n",
              "      <td>16</td>\n",
              "      <td>0.000000</td>\n",
              "    </tr>\n",
              "    <tr>\n",
              "      <th>16376668</th>\n",
              "      <td>2</td>\n",
              "      <td>25</td>\n",
              "      <td>25</td>\n",
              "      <td>1</td>\n",
              "      <td>N</td>\n",
              "      <td>2</td>\n",
              "      <td>False</td>\n",
              "      <td>False</td>\n",
              "      <td>False</td>\n",
              "      <td>False</td>\n",
              "      <td>False</td>\n",
              "      <td>False</td>\n",
              "      <td>1498077981</td>\n",
              "      <td>False</td>\n",
              "      <td>False</td>\n",
              "      <td>False</td>\n",
              "      <td>False</td>\n",
              "      <td>False</td>\n",
              "      <td>False</td>\n",
              "      <td>1498078323</td>\n",
              "      <td>1.080000</td>\n",
              "      <td>236</td>\n",
              "      <td>141</td>\n",
              "      <td>6.000000</td>\n",
              "      <td>0.500000</td>\n",
              "      <td>0.500000</td>\n",
              "      <td>0.000000</td>\n",
              "      <td>0.300000</td>\n",
              "      <td>7.300000</td>\n",
              "      <td>2017</td>\n",
              "      <td>6</td>\n",
              "      <td>21</td>\n",
              "      <td>2</td>\n",
              "      <td>172</td>\n",
              "      <td>2017</td>\n",
              "      <td>6</td>\n",
              "      <td>21</td>\n",
              "      <td>2</td>\n",
              "      <td>172</td>\n",
              "      <td>5</td>\n",
              "      <td>5</td>\n",
              "      <td>21</td>\n",
              "      <td>0.000000</td>\n",
              "    </tr>\n",
              "  </tbody>\n",
              "</table>"
            ],
            "text/plain": [
              "<IPython.core.display.HTML object>"
            ]
          },
          "metadata": {
            "tags": []
          }
        }
      ]
    },
    {
      "cell_type": "markdown",
      "metadata": {
        "id": "kRbFOFdU2Gx9"
      },
      "source": [
        "I will use Root Mean Squared Error as the metric"
      ]
    },
    {
      "cell_type": "code",
      "metadata": {
        "id": "XTI5OewxUeNu"
      },
      "source": [
        "# create custom metrics\n",
        "def r_mse(pred,y): return round(math.sqrt(((pred-y)**2).mean()), 6)\n",
        "def m_rmse(m, xs, y): return r_mse(m.predict(xs), y)"
      ],
      "execution_count": 110,
      "outputs": []
    },
    {
      "cell_type": "code",
      "metadata": {
        "id": "IAzWbBgsSXed"
      },
      "source": [
        "# create function to train a random forest regressor\n",
        "def rf(xs, y, n_estimators=200, max_samples=200000, max_features=0.5, min_samples_leaf=5, **kwargs) :\n",
        "  return RandomForestRegressor(n_jobs=-1,\n",
        "                                n_estimators=n_estimators, # how many trees/models to train\n",
        "                                max_samples=max_samples, # max amount of samples in the subset of data\n",
        "                                max_features=max_features, # int(0.5*n_features)` features are considered at each split\n",
        "                                min_samples_leaf=min_samples_leaf, # minimal amount of samples in one leaf node\n",
        "                                oob_score=True).fit(xs, y)"
      ],
      "execution_count": 111,
      "outputs": []
    },
    {
      "cell_type": "code",
      "metadata": {
        "id": "-egEufidTTaH"
      },
      "source": [
        "# train\n",
        "m = rf(xs, y);"
      ],
      "execution_count": 112,
      "outputs": []
    },
    {
      "cell_type": "code",
      "metadata": {
        "colab": {
          "base_uri": "https://localhost:8080/"
        },
        "id": "V0uxTDx6io8O",
        "outputId": "4423ac39-f621-4f4a-d66c-d8fbfeef16a7"
      },
      "source": [
        "# rmse on training and validation sets\n",
        "m_rmse(m, xs, y), m_rmse(m, valid_xs, valid_y)"
      ],
      "execution_count": 113,
      "outputs": [
        {
          "output_type": "execute_result",
          "data": {
            "text/plain": [
              "(0.305254, 0.326535)"
            ]
          },
          "metadata": {
            "tags": []
          },
          "execution_count": 113
        }
      ]
    },
    {
      "cell_type": "markdown",
      "metadata": {
        "id": "GMqxyE_R9x-R"
      },
      "source": [
        "#### Partial dependence: \n",
        "- Which payment method (except for cash because we have no data) brings most tips?\n",
        "- Which rate code brings most tips?\n",
        "- How does day of the week influence the `tip_amount`? (weekend = better mood = higher tips?)\n",
        "- How does particular time influence the `tip_amount`? \n",
        "- How does `total_amount` influence the `tip_amount`? (expect  high influence here)"
      ]
    },
    {
      "cell_type": "code",
      "metadata": {
        "id": "LAPxsQumDhF_"
      },
      "source": [
        "from sklearn.inspection import plot_partial_dependence"
      ],
      "execution_count": 118,
      "outputs": []
    },
    {
      "cell_type": "code",
      "metadata": {
        "colab": {
          "base_uri": "https://localhost:8080/",
          "height": 285
        },
        "id": "MuBjjpal9xB0",
        "outputId": "ac6eee05-6c95-4f6d-ac33-e512880bda7c"
      },
      "source": [
        "fig,ax = plt.subplots(figsize=(10, 20))\n",
        "plot_partial_dependence(m, xs, ['payment_type', 'RatecodeID', 'tpep_pickup_datetimeDayofweek', 'time_hour', 'total_amount'],\n",
        "                        n_cols=1, grid_resolution=30, ax=ax);"
      ],
      "execution_count": 121,
      "outputs": [
        {
          "output_type": "display_data",
          "data": {
            "image/png": "[encoded data removed]",
            "text/plain": [
              "<Figure size 1152x288 with 6 Axes>"
            ]
          },
          "metadata": {
            "tags": [],
            "needs_background": "light"
          }
        }
      ]
    },
    {
      "cell_type": "markdown",
      "metadata": {
        "id": "Favtie6gC5m8"
      },
      "source": [
        "**Answers**: \n",
        "- Day of week, daytime as well as rate code all have **no importance** on `tip_amount` that customers pay.\n",
        "- Payment method reflects that only credit card payments were properly recorded. We have no data for cash tips, so it's impossible to say for now whether it has an importancy.\n",
        "- `total_amount` that customers pay has a **direct and almost linear influence** on the `tip_amount`."
      ]
    },
    {
      "cell_type": "markdown",
      "metadata": {
        "id": "prMQK1SbEWUa"
      },
      "source": [
        "Insights:  \n",
        "1. For rides **under \\$15** people pay around **\\$0-2 tip**, then it starts rising.\n",
        "2. Rate Codes from 2 to 5 turns out to be the most profitable ones.\n",
        "- 1 = Standard Meter Fare = within city limit\n",
        "- 2 = JFK = John F. Kennedy Airport\n",
        "- 3 = Newark = Newark Airport\n",
        "- 4 = Nassau or Westchester = Counties outside of NYC\n",
        "- 5 = Negotiated fare\n",
        "- 6 = Group ride\n",
        "\n",
        "This makes sense because trips to airports normally are bigger distance trips"
      ]
    },
    {
      "cell_type": "markdown",
      "metadata": {
        "id": "VqIBp7DTxLs2"
      },
      "source": [
        "#### Feature importance & removing unimportant features"
      ]
    },
    {
      "cell_type": "code",
      "metadata": {
        "id": "rXoUXKn5WV23"
      },
      "source": [
        "def rf_feat_importance(m, df, ascending=False):\n",
        "    return pd.DataFrame({'cols':df.columns, 'imp':m.feature_importances_}\n",
        "                       ).sort_values('imp', ascending=ascending)"
      ],
      "execution_count": 122,
      "outputs": []
    },
    {
      "cell_type": "code",
      "metadata": {
        "colab": {
          "base_uri": "https://localhost:8080/",
          "height": 498
        },
        "id": "6ORthIl_WnkX",
        "outputId": "cef48f89-d228-4ea9-f0f7-3cd4dfee096f"
      },
      "source": [
        "fi = rf_feat_importance(m, xs, ascending=False)\n",
        "fi[:15]"
      ],
      "execution_count": 123,
      "outputs": [
        {
          "output_type": "execute_result",
          "data": {
            "text/html": [
              "<div>\n",
              "<style scoped>\n",
              "    .dataframe tbody tr th:only-of-type {\n",
              "        vertical-align: middle;\n",
              "    }\n",
              "\n",
              "    .dataframe tbody tr th {\n",
              "        vertical-align: top;\n",
              "    }\n",
              "\n",
              "    .dataframe thead th {\n",
              "        text-align: right;\n",
              "    }\n",
              "</style>\n",
              "<table border=\"1\" class=\"dataframe\">\n",
              "  <thead>\n",
              "    <tr style=\"text-align: right;\">\n",
              "      <th></th>\n",
              "      <th>cols</th>\n",
              "      <th>imp</th>\n",
              "    </tr>\n",
              "  </thead>\n",
              "  <tbody>\n",
              "    <tr>\n",
              "      <th>28</th>\n",
              "      <td>total_amount</td>\n",
              "      <td>0.400648</td>\n",
              "    </tr>\n",
              "    <tr>\n",
              "      <th>5</th>\n",
              "      <td>payment_type</td>\n",
              "      <td>0.303398</td>\n",
              "    </tr>\n",
              "    <tr>\n",
              "      <th>23</th>\n",
              "      <td>fare_amount</td>\n",
              "      <td>0.182042</td>\n",
              "    </tr>\n",
              "    <tr>\n",
              "      <th>20</th>\n",
              "      <td>trip_distance</td>\n",
              "      <td>0.063473</td>\n",
              "    </tr>\n",
              "    <tr>\n",
              "      <th>26</th>\n",
              "      <td>tolls_amount</td>\n",
              "      <td>0.017819</td>\n",
              "    </tr>\n",
              "    <tr>\n",
              "      <th>40</th>\n",
              "      <td>min_spent</td>\n",
              "      <td>0.015302</td>\n",
              "    </tr>\n",
              "    <tr>\n",
              "      <th>3</th>\n",
              "      <td>RatecodeID</td>\n",
              "      <td>0.004718</td>\n",
              "    </tr>\n",
              "    <tr>\n",
              "      <th>24</th>\n",
              "      <td>extra</td>\n",
              "      <td>0.004648</td>\n",
              "    </tr>\n",
              "    <tr>\n",
              "      <th>22</th>\n",
              "      <td>DOLocationID</td>\n",
              "      <td>0.001541</td>\n",
              "    </tr>\n",
              "    <tr>\n",
              "      <th>41</th>\n",
              "      <td>time_hour</td>\n",
              "      <td>0.001385</td>\n",
              "    </tr>\n",
              "    <tr>\n",
              "      <th>21</th>\n",
              "      <td>PULocationID</td>\n",
              "      <td>0.000958</td>\n",
              "    </tr>\n",
              "    <tr>\n",
              "      <th>36</th>\n",
              "      <td>tpep_dropoff_datetimeDay</td>\n",
              "      <td>0.000536</td>\n",
              "    </tr>\n",
              "    <tr>\n",
              "      <th>12</th>\n",
              "      <td>tpep_pickup_datetimeElapsed</td>\n",
              "      <td>0.000480</td>\n",
              "    </tr>\n",
              "    <tr>\n",
              "      <th>31</th>\n",
              "      <td>tpep_pickup_datetimeDay</td>\n",
              "      <td>0.000469</td>\n",
              "    </tr>\n",
              "    <tr>\n",
              "      <th>19</th>\n",
              "      <td>tpep_dropoff_datetimeElapsed</td>\n",
              "      <td>0.000455</td>\n",
              "    </tr>\n",
              "  </tbody>\n",
              "</table>\n",
              "</div>"
            ],
            "text/plain": [
              "                            cols      imp\n",
              "28                  total_amount 0.400648\n",
              "5                   payment_type 0.303398\n",
              "23                   fare_amount 0.182042\n",
              "20                 trip_distance 0.063473\n",
              "26                  tolls_amount 0.017819\n",
              "40                     min_spent 0.015302\n",
              "3                     RatecodeID 0.004718\n",
              "24                         extra 0.004648\n",
              "22                  DOLocationID 0.001541\n",
              "41                     time_hour 0.001385\n",
              "21                  PULocationID 0.000958\n",
              "36      tpep_dropoff_datetimeDay 0.000536\n",
              "12   tpep_pickup_datetimeElapsed 0.000480\n",
              "31       tpep_pickup_datetimeDay 0.000469\n",
              "19  tpep_dropoff_datetimeElapsed 0.000455"
            ]
          },
          "metadata": {
            "tags": []
          },
          "execution_count": 123
        }
      ]
    },
    {
      "cell_type": "code",
      "metadata": {
        "colab": {
          "base_uri": "https://localhost:8080/",
          "height": 431
        },
        "id": "hmHKC0-bWo4C",
        "outputId": "7ce37bc4-ef35-4db1-f5dc-11a3b74a1249"
      },
      "source": [
        "def plot_fi(fi):\n",
        "    return fi.plot('cols', 'imp', 'barh', figsize=(12,7), legend=False)\n",
        "\n",
        "plot_fi(fi[:30]);"
      ],
      "execution_count": 124,
      "outputs": [
        {
          "output_type": "display_data",
          "data": {
            "image/png": "[encoded data removed]",
            "text/plain": [
              "<Figure size 864x504 with 1 Axes>"
            ]
          },
          "metadata": {
            "tags": [],
            "needs_background": "light"
          }
        }
      ]
    },
    {
      "cell_type": "code",
      "metadata": {
        "colab": {
          "base_uri": "https://localhost:8080/"
        },
        "id": "Mf_ywmgv5pX6",
        "outputId": "b1c4c67a-8118-42c0-d920-1bd0ab5d8036"
      },
      "source": [
        "to_keep = fi[fi.imp>0.001].cols\n",
        "len(to_keep)"
      ],
      "execution_count": 125,
      "outputs": [
        {
          "output_type": "execute_result",
          "data": {
            "text/plain": [
              "10"
            ]
          },
          "metadata": {
            "tags": []
          },
          "execution_count": 125
        }
      ]
    },
    {
      "cell_type": "code",
      "metadata": {
        "id": "XTlnfGYp5s8b"
      },
      "source": [
        "xs_imp = xs[to_keep]\n",
        "valid_xs_imp = valid_xs[to_keep]"
      ],
      "execution_count": 126,
      "outputs": []
    },
    {
      "cell_type": "markdown",
      "metadata": {
        "id": "1c0nyyS9xIVu"
      },
      "source": [
        "Seems like some features are reduntant: fare, extras, taxes, etc. - they all add up to the `total_amount`. Let's try removing them."
      ]
    },
    {
      "cell_type": "markdown",
      "metadata": {
        "id": "ySbsb5FxxIOq"
      },
      "source": [
        "#### Remove reduntant features"
      ]
    },
    {
      "cell_type": "markdown",
      "metadata": {
        "id": "cgT3Ul-HsiaY"
      },
      "source": [
        "The fork pairs that are closer together to the right side are more identical with each other. "
      ]
    },
    {
      "cell_type": "code",
      "metadata": {
        "colab": {
          "base_uri": "https://localhost:8080/",
          "height": 377
        },
        "id": "hZ1jZduJxIIE",
        "outputId": "69150eb4-dd48-4a4d-8621-c51e460ea254"
      },
      "source": [
        "cluster_columns(xs_imp)"
      ],
      "execution_count": 127,
      "outputs": [
        {
          "output_type": "display_data",
          "data": {
            "image/png": "[encoded data removed]",
            "text/plain": [
              "<Figure size 720x432 with 1 Axes>"
            ]
          },
          "metadata": {
            "tags": [],
            "needs_background": "light"
          }
        }
      ]
    },
    {
      "cell_type": "code",
      "metadata": {
        "id": "PDE1qiicxIBu"
      },
      "source": [
        "def get_oob(df):\n",
        "    m = RandomForestRegressor(n_estimators=40, min_samples_leaf=15,\n",
        "        max_samples=200000, max_features=0.5, n_jobs=-1, oob_score=True)\n",
        "    m.fit(df, y)\n",
        "    return m.oob_score_"
      ],
      "execution_count": 128,
      "outputs": []
    },
    {
      "cell_type": "markdown",
      "metadata": {
        "id": "kOwd2ibts6kO"
      },
      "source": [
        "The OOB score ranges between 0 and 1, where 0 means that our model gives completely random answers, while 1 means that it is perfectly accurate.  "
      ]
    },
    {
      "cell_type": "code",
      "metadata": {
        "colab": {
          "base_uri": "https://localhost:8080/"
        },
        "id": "vLqBtiaZxH6W",
        "outputId": "d6e852f1-9938-40ce-9199-fcbd6a03f312"
      },
      "source": [
        "# our baseline\n",
        "get_oob(xs_imp)"
      ],
      "execution_count": 129,
      "outputs": [
        {
          "output_type": "execute_result",
          "data": {
            "text/plain": [
              "0.9703209381652628"
            ]
          },
          "metadata": {
            "tags": []
          },
          "execution_count": 129
        }
      ]
    },
    {
      "cell_type": "markdown",
      "metadata": {
        "id": "eCedy2tstHw6"
      },
      "source": [
        "Remove similar features one by one and see how it impacts the performance of the model:"
      ]
    },
    {
      "cell_type": "code",
      "metadata": {
        "colab": {
          "base_uri": "https://localhost:8080/"
        },
        "id": "dHOEPMb_xHye",
        "outputId": "ca7373ec-9941-4ba9-9901-a24c0a15531a"
      },
      "source": [
        "{c:get_oob(xs_imp.drop(c, axis=1)) for c in ('fare_amount', 'extra', 'tolls_amount', 'total_amount')}\n",
        "# 'tpep_dropoff_datetimeDayofyear', 'tpep_dropoff_datetimeWeek', 'tpep_dropoff_datetimeElapsed', 'tpep_dropoff_datetimeDay', 'tpep_dropoff_datetimeDayofweek', 'mta_tax' "
      ],
      "execution_count": 130,
      "outputs": [
        {
          "output_type": "execute_result",
          "data": {
            "text/plain": [
              "{'extra': 0.9651085630571686,\n",
              " 'fare_amount': 0.9392283805152429,\n",
              " 'tolls_amount': 0.9511226787233948,\n",
              " 'total_amount': 0.7703855826952121}"
            ]
          },
          "metadata": {
            "tags": []
          },
          "execution_count": 130
        }
      ]
    },
    {
      "cell_type": "markdown",
      "metadata": {
        "id": "Yn3hg8Kqq9iN"
      },
      "source": [
        "Seems that without the information about the `total_amount`, we lose a lot of prediction accuracy. What if we drop everything that adds up to the `total_amount`?"
      ]
    },
    {
      "cell_type": "code",
      "metadata": {
        "id": "-7iCVe7EWr8C",
        "colab": {
          "base_uri": "https://localhost:8080/"
        },
        "outputId": "68b52375-c2ea-4edd-d64a-406ec9850b9d"
      },
      "source": [
        "# without components of total_amount\n",
        "get_oob(xs_imp.drop(['fare_amount', 'extra', 'tolls_amount'], axis=1))"
      ],
      "execution_count": 131,
      "outputs": [
        {
          "output_type": "execute_result",
          "data": {
            "text/plain": [
              "0.9251890714852284"
            ]
          },
          "metadata": {
            "tags": []
          },
          "execution_count": 131
        }
      ]
    },
    {
      "cell_type": "markdown",
      "metadata": {
        "id": "EvwQU9I4rUw5"
      },
      "source": [
        "Seems like we're losing a lot of performance with this move. This does not seem to be a good idea and we will not drop anything more."
      ]
    },
    {
      "cell_type": "markdown",
      "metadata": {
        "id": "o0yctisB9T-x"
      },
      "source": [
        "Let's retrain our model (with only 10 features now)"
      ]
    },
    {
      "cell_type": "code",
      "metadata": {
        "colab": {
          "base_uri": "https://localhost:8080/"
        },
        "id": "_kTlihjr9Tj9",
        "outputId": "9fa8b992-79d6-463d-cdc0-699b0d81698c"
      },
      "source": [
        "m = rf(xs_imp, y)\n",
        "m_rmse(m, xs_imp, y), m_rmse(m, valid_xs_imp, valid_y)"
      ],
      "execution_count": 135,
      "outputs": [
        {
          "output_type": "execute_result",
          "data": {
            "text/plain": [
              "(0.296005, 0.313102)"
            ]
          },
          "metadata": {
            "tags": []
          },
          "execution_count": 135
        }
      ]
    },
    {
      "cell_type": "markdown",
      "metadata": {
        "id": "EhriEZFr-l6V"
      },
      "source": [
        "#### Re-calculate feature importance"
      ]
    },
    {
      "cell_type": "code",
      "metadata": {
        "id": "QfENNSMg-o8S"
      },
      "source": [
        "fi = rf_feat_importance(m, xs_imp, ascending=False)"
      ],
      "execution_count": 166,
      "outputs": []
    },
    {
      "cell_type": "code",
      "metadata": {
        "colab": {
          "base_uri": "https://localhost:8080/",
          "height": 431
        },
        "id": "L5mwLyI6-o2B",
        "outputId": "16ce9faa-8797-4cbb-fee9-1614678355b8"
      },
      "source": [
        "plot_fi(fi[:]);"
      ],
      "execution_count": 168,
      "outputs": [
        {
          "output_type": "display_data",
          "data": {
            "image/png": "[encoded data removed]",
            "text/plain": [
              "<Figure size 864x504 with 1 Axes>"
            ]
          },
          "metadata": {
            "tags": [],
            "needs_background": "light"
          }
        }
      ]
    },
    {
      "cell_type": "markdown",
      "metadata": {
        "id": "_rUg2m06wOOk"
      },
      "source": [
        "### Model interpretation and use in production"
      ]
    },
    {
      "cell_type": "code",
      "metadata": {
        "id": "eopAH6_YwOTa"
      },
      "source": [
        "import warnings\n",
        "warnings.simplefilter('ignore', FutureWarning)\n",
        "\n",
        "from treeinterpreter import treeinterpreter\n",
        "from waterfall_chart import plot as waterfall"
      ],
      "execution_count": 143,
      "outputs": []
    },
    {
      "cell_type": "code",
      "metadata": {
        "id": "IJsFp0qSwOW1"
      },
      "source": [
        "row = valid_xs_imp.iloc[:5]"
      ],
      "execution_count": 144,
      "outputs": []
    },
    {
      "cell_type": "code",
      "metadata": {
        "id": "PUx-9e17wSI6"
      },
      "source": [
        "prediction,bias,contributions = treeinterpreter.predict(m, row.values)"
      ],
      "execution_count": 145,
      "outputs": []
    },
    {
      "cell_type": "markdown",
      "metadata": {
        "id": "UCBzxPS_yKVN"
      },
      "source": [
        "Let's take one  example (the third one here) and try to interpret what exactly happened"
      ]
    },
    {
      "cell_type": "code",
      "metadata": {
        "colab": {
          "base_uri": "https://localhost:8080/",
          "height": 78
        },
        "id": "p4jZZPBuxspl",
        "outputId": "54e57e69-0fde-48b8-c698-cc6f23a3c062"
      },
      "source": [
        "row.iloc[[2]] # this is how the sample looks like"
      ],
      "execution_count": 164,
      "outputs": [
        {
          "output_type": "execute_result",
          "data": {
            "text/html": [
              "<div>\n",
              "<style scoped>\n",
              "    .dataframe tbody tr th:only-of-type {\n",
              "        vertical-align: middle;\n",
              "    }\n",
              "\n",
              "    .dataframe tbody tr th {\n",
              "        vertical-align: top;\n",
              "    }\n",
              "\n",
              "    .dataframe thead th {\n",
              "        text-align: right;\n",
              "    }\n",
              "</style>\n",
              "<table border=\"1\" class=\"dataframe\">\n",
              "  <thead>\n",
              "    <tr style=\"text-align: right;\">\n",
              "      <th></th>\n",
              "      <th>total_amount</th>\n",
              "      <th>payment_type</th>\n",
              "      <th>fare_amount</th>\n",
              "      <th>trip_distance</th>\n",
              "      <th>tolls_amount</th>\n",
              "      <th>min_spent</th>\n",
              "      <th>RatecodeID</th>\n",
              "      <th>extra</th>\n",
              "      <th>DOLocationID</th>\n",
              "      <th>time_hour</th>\n",
              "    </tr>\n",
              "  </thead>\n",
              "  <tbody>\n",
              "    <tr>\n",
              "      <th>23073284</th>\n",
              "      <td>17.879999</td>\n",
              "      <td>1</td>\n",
              "      <td>13.500000</td>\n",
              "      <td>1.720000</td>\n",
              "      <td>0.000000</td>\n",
              "      <td>20</td>\n",
              "      <td>1</td>\n",
              "      <td>0.000000</td>\n",
              "      <td>239</td>\n",
              "      <td>15</td>\n",
              "    </tr>\n",
              "  </tbody>\n",
              "</table>\n",
              "</div>"
            ],
            "text/plain": [
              "          total_amount  payment_type  fare_amount  trip_distance  \\\n",
              "23073284     17.879999             1    13.500000       1.720000   \n",
              "\n",
              "          tolls_amount  min_spent  RatecodeID    extra  DOLocationID  \\\n",
              "23073284      0.000000         20           1 0.000000           239   \n",
              "\n",
              "          time_hour  \n",
              "23073284         15  "
            ]
          },
          "metadata": {
            "tags": []
          },
          "execution_count": 164
        }
      ]
    },
    {
      "cell_type": "code",
      "metadata": {
        "colab": {
          "base_uri": "https://localhost:8080/"
        },
        "id": "ZliJCUt2ww1L",
        "outputId": "968f1ada-11c0-467b-9cd0-9009a37c4920"
      },
      "source": [
        "# predicted tip,  starting point, contributions from features\n",
        "  prediction[2],  bias[2],        contributions[2]"
      ],
      "execution_count": 165,
      "outputs": [
        {
          "output_type": "execute_result",
          "data": {
            "text/plain": [
              "(array([3.58274486]),\n",
              " 1.8511081963967597,\n",
              " array([ 0.54519444,  0.71841802,  0.27501193, -0.04875542, -0.00761575,  0.11405678,  0.        ,  0.09943332,  0.00546845,  0.03042489]))"
            ]
          },
          "metadata": {
            "tags": []
          },
          "execution_count": 165
        }
      ]
    },
    {
      "cell_type": "code",
      "metadata": {
        "colab": {
          "base_uri": "https://localhost:8080/",
          "height": 293
        },
        "id": "F6_I17TvwXFm",
        "outputId": "e529f6c5-c5d1-4268-b319-1231af8e1b93"
      },
      "source": [
        "waterfall(valid_xs_imp.columns, contributions[2], threshold=0.08, \n",
        "          rotation_value=45,formatting='{:,.3f}');"
      ],
      "execution_count": 154,
      "outputs": [
        {
          "output_type": "display_data",
          "data": {
            "image/png": "[encoded data removed]",
            "text/plain": [
              "<Figure size 432x288 with 1 Axes>"
            ]
          },
          "metadata": {
            "tags": [],
            "needs_background": "light"
          }
        }
      ]
    },
    {
      "cell_type": "markdown",
      "metadata": {
        "id": "0HBFr68YwafF"
      },
      "source": [
        "1. The model's `bias` is at \\$1.85. It means that it initially starts the prediction at the level of \\$1.85 and then adds up contributions from different features. Contributions can be positive or negative.\n",
        "2. In this example, the **predicted tip is \\$3.58**.\n",
        "3. It **started from** the bias level of **\\$1.85**, the `total_amount` **added \\$0.54** to the tip, `payment_type` (which is by credit card in this example) **added \\$0.72** to the total tip amount."
      ]
    },
    {
      "cell_type": "markdown",
      "metadata": {
        "id": "vw4QImiHzup1"
      },
      "source": [
        "This information would be very useful in production because it offers high explainability as to how exactly the algorithm made its prediction. "
      ]
    }
  ]
}